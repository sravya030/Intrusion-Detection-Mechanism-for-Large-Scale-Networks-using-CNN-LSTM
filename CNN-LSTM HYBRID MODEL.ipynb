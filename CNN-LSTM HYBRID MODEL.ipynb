{
 "cells": [
  {
   "cell_type": "code",
   "execution_count": 1,
   "id": "91779858",
   "metadata": {},
   "outputs": [
    {
     "name": "stdout",
     "output_type": "stream",
     "text": [
      "sravya\n"
     ]
    }
   ],
   "source": [
    "print(\"sravya\")"
   ]
  },
  {
   "cell_type": "code",
   "execution_count": 2,
   "id": "0618c3a7",
   "metadata": {},
   "outputs": [],
   "source": [
    "import pandas as pd \n",
    "import numpy as np\n",
    "from sklearn import *\n",
    "%matplotlib inline"
   ]
  },
  {
   "cell_type": "code",
   "execution_count": 3,
   "id": "0055e055",
   "metadata": {},
   "outputs": [],
   "source": [
    "from tensorflow.keras.models import Sequential\n",
    "from tensorflow.keras.layers import Dense, Activation,Dropout\n",
    "from tensorflow.keras.callbacks import ModelCheckpoint, EarlyStopping, ReduceLROnPlateau\n",
    "from tensorflow.keras.optimizers import SGD,Adam\n",
    "import keras\n",
    "# Conv1D + LSTM\n",
    "from keras.layers.convolutional import Conv1D,MaxPooling1D\n",
    "from keras.layers import LSTM\n",
    "from keras.layers import Dense,Dropout\n",
    "from keras.layers import Flatten"
   ]
  },
  {
   "cell_type": "code",
   "execution_count": 4,
   "id": "ae4d5f16",
   "metadata": {},
   "outputs": [],
   "source": [
    "df=pd.read_csv(\"kddcup.data_10_percent_corrected\",header=None)"
   ]
  },
  {
   "cell_type": "code",
   "execution_count": 5,
   "id": "f6978b37",
   "metadata": {},
   "outputs": [
    {
     "data": {
      "text/html": [
       "<div>\n",
       "<style scoped>\n",
       "    .dataframe tbody tr th:only-of-type {\n",
       "        vertical-align: middle;\n",
       "    }\n",
       "\n",
       "    .dataframe tbody tr th {\n",
       "        vertical-align: top;\n",
       "    }\n",
       "\n",
       "    .dataframe thead th {\n",
       "        text-align: right;\n",
       "    }\n",
       "</style>\n",
       "<table border=\"1\" class=\"dataframe\">\n",
       "  <thead>\n",
       "    <tr style=\"text-align: right;\">\n",
       "      <th></th>\n",
       "      <th>0</th>\n",
       "      <th>1</th>\n",
       "      <th>2</th>\n",
       "      <th>3</th>\n",
       "      <th>4</th>\n",
       "      <th>5</th>\n",
       "      <th>6</th>\n",
       "      <th>7</th>\n",
       "      <th>8</th>\n",
       "      <th>9</th>\n",
       "      <th>...</th>\n",
       "      <th>32</th>\n",
       "      <th>33</th>\n",
       "      <th>34</th>\n",
       "      <th>35</th>\n",
       "      <th>36</th>\n",
       "      <th>37</th>\n",
       "      <th>38</th>\n",
       "      <th>39</th>\n",
       "      <th>40</th>\n",
       "      <th>41</th>\n",
       "    </tr>\n",
       "  </thead>\n",
       "  <tbody>\n",
       "    <tr>\n",
       "      <th>0</th>\n",
       "      <td>0</td>\n",
       "      <td>tcp</td>\n",
       "      <td>http</td>\n",
       "      <td>SF</td>\n",
       "      <td>181</td>\n",
       "      <td>5450</td>\n",
       "      <td>0</td>\n",
       "      <td>0</td>\n",
       "      <td>0</td>\n",
       "      <td>0</td>\n",
       "      <td>...</td>\n",
       "      <td>9</td>\n",
       "      <td>1.0</td>\n",
       "      <td>0.0</td>\n",
       "      <td>0.11</td>\n",
       "      <td>0.00</td>\n",
       "      <td>0.00</td>\n",
       "      <td>0.00</td>\n",
       "      <td>0.0</td>\n",
       "      <td>0.0</td>\n",
       "      <td>normal.</td>\n",
       "    </tr>\n",
       "    <tr>\n",
       "      <th>1</th>\n",
       "      <td>0</td>\n",
       "      <td>tcp</td>\n",
       "      <td>http</td>\n",
       "      <td>SF</td>\n",
       "      <td>239</td>\n",
       "      <td>486</td>\n",
       "      <td>0</td>\n",
       "      <td>0</td>\n",
       "      <td>0</td>\n",
       "      <td>0</td>\n",
       "      <td>...</td>\n",
       "      <td>19</td>\n",
       "      <td>1.0</td>\n",
       "      <td>0.0</td>\n",
       "      <td>0.05</td>\n",
       "      <td>0.00</td>\n",
       "      <td>0.00</td>\n",
       "      <td>0.00</td>\n",
       "      <td>0.0</td>\n",
       "      <td>0.0</td>\n",
       "      <td>normal.</td>\n",
       "    </tr>\n",
       "    <tr>\n",
       "      <th>2</th>\n",
       "      <td>0</td>\n",
       "      <td>tcp</td>\n",
       "      <td>http</td>\n",
       "      <td>SF</td>\n",
       "      <td>235</td>\n",
       "      <td>1337</td>\n",
       "      <td>0</td>\n",
       "      <td>0</td>\n",
       "      <td>0</td>\n",
       "      <td>0</td>\n",
       "      <td>...</td>\n",
       "      <td>29</td>\n",
       "      <td>1.0</td>\n",
       "      <td>0.0</td>\n",
       "      <td>0.03</td>\n",
       "      <td>0.00</td>\n",
       "      <td>0.00</td>\n",
       "      <td>0.00</td>\n",
       "      <td>0.0</td>\n",
       "      <td>0.0</td>\n",
       "      <td>normal.</td>\n",
       "    </tr>\n",
       "    <tr>\n",
       "      <th>3</th>\n",
       "      <td>0</td>\n",
       "      <td>tcp</td>\n",
       "      <td>http</td>\n",
       "      <td>SF</td>\n",
       "      <td>219</td>\n",
       "      <td>1337</td>\n",
       "      <td>0</td>\n",
       "      <td>0</td>\n",
       "      <td>0</td>\n",
       "      <td>0</td>\n",
       "      <td>...</td>\n",
       "      <td>39</td>\n",
       "      <td>1.0</td>\n",
       "      <td>0.0</td>\n",
       "      <td>0.03</td>\n",
       "      <td>0.00</td>\n",
       "      <td>0.00</td>\n",
       "      <td>0.00</td>\n",
       "      <td>0.0</td>\n",
       "      <td>0.0</td>\n",
       "      <td>normal.</td>\n",
       "    </tr>\n",
       "    <tr>\n",
       "      <th>4</th>\n",
       "      <td>0</td>\n",
       "      <td>tcp</td>\n",
       "      <td>http</td>\n",
       "      <td>SF</td>\n",
       "      <td>217</td>\n",
       "      <td>2032</td>\n",
       "      <td>0</td>\n",
       "      <td>0</td>\n",
       "      <td>0</td>\n",
       "      <td>0</td>\n",
       "      <td>...</td>\n",
       "      <td>49</td>\n",
       "      <td>1.0</td>\n",
       "      <td>0.0</td>\n",
       "      <td>0.02</td>\n",
       "      <td>0.00</td>\n",
       "      <td>0.00</td>\n",
       "      <td>0.00</td>\n",
       "      <td>0.0</td>\n",
       "      <td>0.0</td>\n",
       "      <td>normal.</td>\n",
       "    </tr>\n",
       "    <tr>\n",
       "      <th>...</th>\n",
       "      <td>...</td>\n",
       "      <td>...</td>\n",
       "      <td>...</td>\n",
       "      <td>...</td>\n",
       "      <td>...</td>\n",
       "      <td>...</td>\n",
       "      <td>...</td>\n",
       "      <td>...</td>\n",
       "      <td>...</td>\n",
       "      <td>...</td>\n",
       "      <td>...</td>\n",
       "      <td>...</td>\n",
       "      <td>...</td>\n",
       "      <td>...</td>\n",
       "      <td>...</td>\n",
       "      <td>...</td>\n",
       "      <td>...</td>\n",
       "      <td>...</td>\n",
       "      <td>...</td>\n",
       "      <td>...</td>\n",
       "      <td>...</td>\n",
       "    </tr>\n",
       "    <tr>\n",
       "      <th>494016</th>\n",
       "      <td>0</td>\n",
       "      <td>tcp</td>\n",
       "      <td>http</td>\n",
       "      <td>SF</td>\n",
       "      <td>310</td>\n",
       "      <td>1881</td>\n",
       "      <td>0</td>\n",
       "      <td>0</td>\n",
       "      <td>0</td>\n",
       "      <td>0</td>\n",
       "      <td>...</td>\n",
       "      <td>255</td>\n",
       "      <td>1.0</td>\n",
       "      <td>0.0</td>\n",
       "      <td>0.01</td>\n",
       "      <td>0.05</td>\n",
       "      <td>0.00</td>\n",
       "      <td>0.01</td>\n",
       "      <td>0.0</td>\n",
       "      <td>0.0</td>\n",
       "      <td>normal.</td>\n",
       "    </tr>\n",
       "    <tr>\n",
       "      <th>494017</th>\n",
       "      <td>0</td>\n",
       "      <td>tcp</td>\n",
       "      <td>http</td>\n",
       "      <td>SF</td>\n",
       "      <td>282</td>\n",
       "      <td>2286</td>\n",
       "      <td>0</td>\n",
       "      <td>0</td>\n",
       "      <td>0</td>\n",
       "      <td>0</td>\n",
       "      <td>...</td>\n",
       "      <td>255</td>\n",
       "      <td>1.0</td>\n",
       "      <td>0.0</td>\n",
       "      <td>0.17</td>\n",
       "      <td>0.05</td>\n",
       "      <td>0.00</td>\n",
       "      <td>0.01</td>\n",
       "      <td>0.0</td>\n",
       "      <td>0.0</td>\n",
       "      <td>normal.</td>\n",
       "    </tr>\n",
       "    <tr>\n",
       "      <th>494018</th>\n",
       "      <td>0</td>\n",
       "      <td>tcp</td>\n",
       "      <td>http</td>\n",
       "      <td>SF</td>\n",
       "      <td>203</td>\n",
       "      <td>1200</td>\n",
       "      <td>0</td>\n",
       "      <td>0</td>\n",
       "      <td>0</td>\n",
       "      <td>0</td>\n",
       "      <td>...</td>\n",
       "      <td>255</td>\n",
       "      <td>1.0</td>\n",
       "      <td>0.0</td>\n",
       "      <td>0.06</td>\n",
       "      <td>0.05</td>\n",
       "      <td>0.06</td>\n",
       "      <td>0.01</td>\n",
       "      <td>0.0</td>\n",
       "      <td>0.0</td>\n",
       "      <td>normal.</td>\n",
       "    </tr>\n",
       "    <tr>\n",
       "      <th>494019</th>\n",
       "      <td>0</td>\n",
       "      <td>tcp</td>\n",
       "      <td>http</td>\n",
       "      <td>SF</td>\n",
       "      <td>291</td>\n",
       "      <td>1200</td>\n",
       "      <td>0</td>\n",
       "      <td>0</td>\n",
       "      <td>0</td>\n",
       "      <td>0</td>\n",
       "      <td>...</td>\n",
       "      <td>255</td>\n",
       "      <td>1.0</td>\n",
       "      <td>0.0</td>\n",
       "      <td>0.04</td>\n",
       "      <td>0.05</td>\n",
       "      <td>0.04</td>\n",
       "      <td>0.01</td>\n",
       "      <td>0.0</td>\n",
       "      <td>0.0</td>\n",
       "      <td>normal.</td>\n",
       "    </tr>\n",
       "    <tr>\n",
       "      <th>494020</th>\n",
       "      <td>0</td>\n",
       "      <td>tcp</td>\n",
       "      <td>http</td>\n",
       "      <td>SF</td>\n",
       "      <td>219</td>\n",
       "      <td>1234</td>\n",
       "      <td>0</td>\n",
       "      <td>0</td>\n",
       "      <td>0</td>\n",
       "      <td>0</td>\n",
       "      <td>...</td>\n",
       "      <td>255</td>\n",
       "      <td>1.0</td>\n",
       "      <td>0.0</td>\n",
       "      <td>0.17</td>\n",
       "      <td>0.05</td>\n",
       "      <td>0.00</td>\n",
       "      <td>0.01</td>\n",
       "      <td>0.0</td>\n",
       "      <td>0.0</td>\n",
       "      <td>normal.</td>\n",
       "    </tr>\n",
       "  </tbody>\n",
       "</table>\n",
       "<p>494021 rows × 42 columns</p>\n",
       "</div>"
      ],
      "text/plain": [
       "        0    1     2   3    4     5   6   7   8   9   ...   32   33   34  \\\n",
       "0        0  tcp  http  SF  181  5450   0   0   0   0  ...    9  1.0  0.0   \n",
       "1        0  tcp  http  SF  239   486   0   0   0   0  ...   19  1.0  0.0   \n",
       "2        0  tcp  http  SF  235  1337   0   0   0   0  ...   29  1.0  0.0   \n",
       "3        0  tcp  http  SF  219  1337   0   0   0   0  ...   39  1.0  0.0   \n",
       "4        0  tcp  http  SF  217  2032   0   0   0   0  ...   49  1.0  0.0   \n",
       "...     ..  ...   ...  ..  ...   ...  ..  ..  ..  ..  ...  ...  ...  ...   \n",
       "494016   0  tcp  http  SF  310  1881   0   0   0   0  ...  255  1.0  0.0   \n",
       "494017   0  tcp  http  SF  282  2286   0   0   0   0  ...  255  1.0  0.0   \n",
       "494018   0  tcp  http  SF  203  1200   0   0   0   0  ...  255  1.0  0.0   \n",
       "494019   0  tcp  http  SF  291  1200   0   0   0   0  ...  255  1.0  0.0   \n",
       "494020   0  tcp  http  SF  219  1234   0   0   0   0  ...  255  1.0  0.0   \n",
       "\n",
       "          35    36    37    38   39   40       41  \n",
       "0       0.11  0.00  0.00  0.00  0.0  0.0  normal.  \n",
       "1       0.05  0.00  0.00  0.00  0.0  0.0  normal.  \n",
       "2       0.03  0.00  0.00  0.00  0.0  0.0  normal.  \n",
       "3       0.03  0.00  0.00  0.00  0.0  0.0  normal.  \n",
       "4       0.02  0.00  0.00  0.00  0.0  0.0  normal.  \n",
       "...      ...   ...   ...   ...  ...  ...      ...  \n",
       "494016  0.01  0.05  0.00  0.01  0.0  0.0  normal.  \n",
       "494017  0.17  0.05  0.00  0.01  0.0  0.0  normal.  \n",
       "494018  0.06  0.05  0.06  0.01  0.0  0.0  normal.  \n",
       "494019  0.04  0.05  0.04  0.01  0.0  0.0  normal.  \n",
       "494020  0.17  0.05  0.00  0.01  0.0  0.0  normal.  \n",
       "\n",
       "[494021 rows x 42 columns]"
      ]
     },
     "execution_count": 5,
     "metadata": {},
     "output_type": "execute_result"
    }
   ],
   "source": [
    "df"
   ]
  },
  {
   "cell_type": "code",
   "execution_count": 6,
   "id": "9300ab53",
   "metadata": {},
   "outputs": [
    {
     "name": "stdout",
     "output_type": "stream",
     "text": [
      "['duration', 'protocol_type', 'service', 'flag', 'src_bytes', 'dst_bytes', 'land', 'wrong_fragment', 'urgent', 'hot', 'num_failed_logins', 'logged_in', 'num_compromised', 'root_shell', 'su_attempted', 'num_root', 'num_file_creations', 'num_shells', 'num_access_files', 'num_outbound_cmds', 'is_host_login', 'is_guest_login', 'count', 'srv_count', 'serror_rate', 'srv_serror_rate', 'rerror_rate', 'srv_rerror_rate', 'same_srv_rate', 'diff_srv_rate', 'srv_diff_host_rate', 'dst_host_count', 'dst_host_srv_count', 'dst_host_same_srv_rate', 'dst_host_diff_srv_rate', 'dst_host_same_src_port_rate', 'dst_host_srv_diff_host_rate', 'dst_host_serror_rate', 'dst_host_srv_serror_rate', 'dst_host_rerror_rate', 'dst_host_srv_rerror_rate', 'Category']\n"
     ]
    }
   ],
   "source": [
    "columns = [f.split(\":\")[0] for f in \"\"\"\n",
    "duration: continuous.\n",
    "protocol_type: symbolic.\n",
    "service: symbolic.\n",
    "flag: symbolic.\n",
    "src_bytes: continuous.\n",
    "dst_bytes: continuous.\n",
    "land: symbolic.\n",
    "wrong_fragment: continuous.\n",
    "urgent: continuous.\n",
    "hot: continuous.\n",
    "num_failed_logins: continuous.\n",
    "logged_in: symbolic.\n",
    "num_compromised: continuous.\n",
    "root_shell: continuous.\n",
    "su_attempted: continuous.\n",
    "num_root: continuous.\n",
    "num_file_creations: continuous.\n",
    "num_shells: continuous.\n",
    "num_access_files: continuous.\n",
    "num_outbound_cmds: continuous.\n",
    "is_host_login: symbolic.\n",
    "is_guest_login: symbolic.\n",
    "count: continuous.\n",
    "srv_count: continuous.\n",
    "serror_rate: continuous.\n",
    "srv_serror_rate: continuous.\n",
    "rerror_rate: continuous.\n",
    "srv_rerror_rate: continuous.\n",
    "same_srv_rate: continuous.\n",
    "diff_srv_rate: continuous.\n",
    "srv_diff_host_rate: continuous.\n",
    "dst_host_count: continuous.\n",
    "dst_host_srv_count: continuous.\n",
    "dst_host_same_srv_rate: continuous.\n",
    "dst_host_diff_srv_rate: continuous.\n",
    "dst_host_same_src_port_rate: continuous.\n",
    "dst_host_srv_diff_host_rate: continuous.\n",
    "dst_host_serror_rate: continuous.\n",
    "dst_host_srv_serror_rate: continuous.\n",
    "dst_host_rerror_rate: continuous.\n",
    "dst_host_srv_rerror_rate: continuous.\n",
    "\"\"\".split(\"\\n\") if len(f)>0]\n",
    "\n",
    "columns.append(\"Category\")\n",
    "print(columns)"
   ]
  },
  {
   "cell_type": "code",
   "execution_count": 7,
   "id": "1e110a23",
   "metadata": {},
   "outputs": [],
   "source": [
    "df.columns =['duration', 'protocol_type', 'service', 'flag', 'src_bytes', 'dst_bytes', 'land', 'wrong_fragment', 'urgent', 'hot', 'num_failed_logins', 'logged_in', 'num_compromised', 'root_shell', 'su_attempted', 'num_root', 'num_file_creations', 'num_shells', 'num_access_files', 'num_outbound_cmds', 'is_host_login', 'is_guest_login', 'count', 'srv_count', 'serror_rate', 'srv_serror_rate', 'rerror_rate', 'srv_rerror_rate', 'same_srv_rate', 'diff_srv_rate', 'srv_diff_host_rate', 'dst_host_count', 'dst_host_srv_count', 'dst_host_same_srv_rate', 'dst_host_diff_srv_rate', 'dst_host_same_src_port_rate', 'dst_host_srv_diff_host_rate', 'dst_host_serror_rate', 'dst_host_srv_serror_rate', 'dst_host_rerror_rate', 'dst_host_srv_rerror_rate', 'Category']"
   ]
  },
  {
   "cell_type": "code",
   "execution_count": 8,
   "id": "7c176ca0",
   "metadata": {},
   "outputs": [
    {
     "data": {
      "text/html": [
       "<div>\n",
       "<style scoped>\n",
       "    .dataframe tbody tr th:only-of-type {\n",
       "        vertical-align: middle;\n",
       "    }\n",
       "\n",
       "    .dataframe tbody tr th {\n",
       "        vertical-align: top;\n",
       "    }\n",
       "\n",
       "    .dataframe thead th {\n",
       "        text-align: right;\n",
       "    }\n",
       "</style>\n",
       "<table border=\"1\" class=\"dataframe\">\n",
       "  <thead>\n",
       "    <tr style=\"text-align: right;\">\n",
       "      <th></th>\n",
       "      <th>duration</th>\n",
       "      <th>protocol_type</th>\n",
       "      <th>service</th>\n",
       "      <th>flag</th>\n",
       "      <th>src_bytes</th>\n",
       "      <th>dst_bytes</th>\n",
       "      <th>land</th>\n",
       "      <th>wrong_fragment</th>\n",
       "      <th>urgent</th>\n",
       "      <th>hot</th>\n",
       "      <th>...</th>\n",
       "      <th>dst_host_srv_count</th>\n",
       "      <th>dst_host_same_srv_rate</th>\n",
       "      <th>dst_host_diff_srv_rate</th>\n",
       "      <th>dst_host_same_src_port_rate</th>\n",
       "      <th>dst_host_srv_diff_host_rate</th>\n",
       "      <th>dst_host_serror_rate</th>\n",
       "      <th>dst_host_srv_serror_rate</th>\n",
       "      <th>dst_host_rerror_rate</th>\n",
       "      <th>dst_host_srv_rerror_rate</th>\n",
       "      <th>Category</th>\n",
       "    </tr>\n",
       "  </thead>\n",
       "  <tbody>\n",
       "    <tr>\n",
       "      <th>0</th>\n",
       "      <td>0</td>\n",
       "      <td>tcp</td>\n",
       "      <td>http</td>\n",
       "      <td>SF</td>\n",
       "      <td>181</td>\n",
       "      <td>5450</td>\n",
       "      <td>0</td>\n",
       "      <td>0</td>\n",
       "      <td>0</td>\n",
       "      <td>0</td>\n",
       "      <td>...</td>\n",
       "      <td>9</td>\n",
       "      <td>1.0</td>\n",
       "      <td>0.0</td>\n",
       "      <td>0.11</td>\n",
       "      <td>0.00</td>\n",
       "      <td>0.00</td>\n",
       "      <td>0.00</td>\n",
       "      <td>0.0</td>\n",
       "      <td>0.0</td>\n",
       "      <td>normal.</td>\n",
       "    </tr>\n",
       "    <tr>\n",
       "      <th>1</th>\n",
       "      <td>0</td>\n",
       "      <td>tcp</td>\n",
       "      <td>http</td>\n",
       "      <td>SF</td>\n",
       "      <td>239</td>\n",
       "      <td>486</td>\n",
       "      <td>0</td>\n",
       "      <td>0</td>\n",
       "      <td>0</td>\n",
       "      <td>0</td>\n",
       "      <td>...</td>\n",
       "      <td>19</td>\n",
       "      <td>1.0</td>\n",
       "      <td>0.0</td>\n",
       "      <td>0.05</td>\n",
       "      <td>0.00</td>\n",
       "      <td>0.00</td>\n",
       "      <td>0.00</td>\n",
       "      <td>0.0</td>\n",
       "      <td>0.0</td>\n",
       "      <td>normal.</td>\n",
       "    </tr>\n",
       "    <tr>\n",
       "      <th>2</th>\n",
       "      <td>0</td>\n",
       "      <td>tcp</td>\n",
       "      <td>http</td>\n",
       "      <td>SF</td>\n",
       "      <td>235</td>\n",
       "      <td>1337</td>\n",
       "      <td>0</td>\n",
       "      <td>0</td>\n",
       "      <td>0</td>\n",
       "      <td>0</td>\n",
       "      <td>...</td>\n",
       "      <td>29</td>\n",
       "      <td>1.0</td>\n",
       "      <td>0.0</td>\n",
       "      <td>0.03</td>\n",
       "      <td>0.00</td>\n",
       "      <td>0.00</td>\n",
       "      <td>0.00</td>\n",
       "      <td>0.0</td>\n",
       "      <td>0.0</td>\n",
       "      <td>normal.</td>\n",
       "    </tr>\n",
       "    <tr>\n",
       "      <th>3</th>\n",
       "      <td>0</td>\n",
       "      <td>tcp</td>\n",
       "      <td>http</td>\n",
       "      <td>SF</td>\n",
       "      <td>219</td>\n",
       "      <td>1337</td>\n",
       "      <td>0</td>\n",
       "      <td>0</td>\n",
       "      <td>0</td>\n",
       "      <td>0</td>\n",
       "      <td>...</td>\n",
       "      <td>39</td>\n",
       "      <td>1.0</td>\n",
       "      <td>0.0</td>\n",
       "      <td>0.03</td>\n",
       "      <td>0.00</td>\n",
       "      <td>0.00</td>\n",
       "      <td>0.00</td>\n",
       "      <td>0.0</td>\n",
       "      <td>0.0</td>\n",
       "      <td>normal.</td>\n",
       "    </tr>\n",
       "    <tr>\n",
       "      <th>4</th>\n",
       "      <td>0</td>\n",
       "      <td>tcp</td>\n",
       "      <td>http</td>\n",
       "      <td>SF</td>\n",
       "      <td>217</td>\n",
       "      <td>2032</td>\n",
       "      <td>0</td>\n",
       "      <td>0</td>\n",
       "      <td>0</td>\n",
       "      <td>0</td>\n",
       "      <td>...</td>\n",
       "      <td>49</td>\n",
       "      <td>1.0</td>\n",
       "      <td>0.0</td>\n",
       "      <td>0.02</td>\n",
       "      <td>0.00</td>\n",
       "      <td>0.00</td>\n",
       "      <td>0.00</td>\n",
       "      <td>0.0</td>\n",
       "      <td>0.0</td>\n",
       "      <td>normal.</td>\n",
       "    </tr>\n",
       "    <tr>\n",
       "      <th>...</th>\n",
       "      <td>...</td>\n",
       "      <td>...</td>\n",
       "      <td>...</td>\n",
       "      <td>...</td>\n",
       "      <td>...</td>\n",
       "      <td>...</td>\n",
       "      <td>...</td>\n",
       "      <td>...</td>\n",
       "      <td>...</td>\n",
       "      <td>...</td>\n",
       "      <td>...</td>\n",
       "      <td>...</td>\n",
       "      <td>...</td>\n",
       "      <td>...</td>\n",
       "      <td>...</td>\n",
       "      <td>...</td>\n",
       "      <td>...</td>\n",
       "      <td>...</td>\n",
       "      <td>...</td>\n",
       "      <td>...</td>\n",
       "      <td>...</td>\n",
       "    </tr>\n",
       "    <tr>\n",
       "      <th>494016</th>\n",
       "      <td>0</td>\n",
       "      <td>tcp</td>\n",
       "      <td>http</td>\n",
       "      <td>SF</td>\n",
       "      <td>310</td>\n",
       "      <td>1881</td>\n",
       "      <td>0</td>\n",
       "      <td>0</td>\n",
       "      <td>0</td>\n",
       "      <td>0</td>\n",
       "      <td>...</td>\n",
       "      <td>255</td>\n",
       "      <td>1.0</td>\n",
       "      <td>0.0</td>\n",
       "      <td>0.01</td>\n",
       "      <td>0.05</td>\n",
       "      <td>0.00</td>\n",
       "      <td>0.01</td>\n",
       "      <td>0.0</td>\n",
       "      <td>0.0</td>\n",
       "      <td>normal.</td>\n",
       "    </tr>\n",
       "    <tr>\n",
       "      <th>494017</th>\n",
       "      <td>0</td>\n",
       "      <td>tcp</td>\n",
       "      <td>http</td>\n",
       "      <td>SF</td>\n",
       "      <td>282</td>\n",
       "      <td>2286</td>\n",
       "      <td>0</td>\n",
       "      <td>0</td>\n",
       "      <td>0</td>\n",
       "      <td>0</td>\n",
       "      <td>...</td>\n",
       "      <td>255</td>\n",
       "      <td>1.0</td>\n",
       "      <td>0.0</td>\n",
       "      <td>0.17</td>\n",
       "      <td>0.05</td>\n",
       "      <td>0.00</td>\n",
       "      <td>0.01</td>\n",
       "      <td>0.0</td>\n",
       "      <td>0.0</td>\n",
       "      <td>normal.</td>\n",
       "    </tr>\n",
       "    <tr>\n",
       "      <th>494018</th>\n",
       "      <td>0</td>\n",
       "      <td>tcp</td>\n",
       "      <td>http</td>\n",
       "      <td>SF</td>\n",
       "      <td>203</td>\n",
       "      <td>1200</td>\n",
       "      <td>0</td>\n",
       "      <td>0</td>\n",
       "      <td>0</td>\n",
       "      <td>0</td>\n",
       "      <td>...</td>\n",
       "      <td>255</td>\n",
       "      <td>1.0</td>\n",
       "      <td>0.0</td>\n",
       "      <td>0.06</td>\n",
       "      <td>0.05</td>\n",
       "      <td>0.06</td>\n",
       "      <td>0.01</td>\n",
       "      <td>0.0</td>\n",
       "      <td>0.0</td>\n",
       "      <td>normal.</td>\n",
       "    </tr>\n",
       "    <tr>\n",
       "      <th>494019</th>\n",
       "      <td>0</td>\n",
       "      <td>tcp</td>\n",
       "      <td>http</td>\n",
       "      <td>SF</td>\n",
       "      <td>291</td>\n",
       "      <td>1200</td>\n",
       "      <td>0</td>\n",
       "      <td>0</td>\n",
       "      <td>0</td>\n",
       "      <td>0</td>\n",
       "      <td>...</td>\n",
       "      <td>255</td>\n",
       "      <td>1.0</td>\n",
       "      <td>0.0</td>\n",
       "      <td>0.04</td>\n",
       "      <td>0.05</td>\n",
       "      <td>0.04</td>\n",
       "      <td>0.01</td>\n",
       "      <td>0.0</td>\n",
       "      <td>0.0</td>\n",
       "      <td>normal.</td>\n",
       "    </tr>\n",
       "    <tr>\n",
       "      <th>494020</th>\n",
       "      <td>0</td>\n",
       "      <td>tcp</td>\n",
       "      <td>http</td>\n",
       "      <td>SF</td>\n",
       "      <td>219</td>\n",
       "      <td>1234</td>\n",
       "      <td>0</td>\n",
       "      <td>0</td>\n",
       "      <td>0</td>\n",
       "      <td>0</td>\n",
       "      <td>...</td>\n",
       "      <td>255</td>\n",
       "      <td>1.0</td>\n",
       "      <td>0.0</td>\n",
       "      <td>0.17</td>\n",
       "      <td>0.05</td>\n",
       "      <td>0.00</td>\n",
       "      <td>0.01</td>\n",
       "      <td>0.0</td>\n",
       "      <td>0.0</td>\n",
       "      <td>normal.</td>\n",
       "    </tr>\n",
       "  </tbody>\n",
       "</table>\n",
       "<p>494021 rows × 42 columns</p>\n",
       "</div>"
      ],
      "text/plain": [
       "        duration protocol_type service flag  src_bytes  dst_bytes  land  \\\n",
       "0              0           tcp    http   SF        181       5450     0   \n",
       "1              0           tcp    http   SF        239        486     0   \n",
       "2              0           tcp    http   SF        235       1337     0   \n",
       "3              0           tcp    http   SF        219       1337     0   \n",
       "4              0           tcp    http   SF        217       2032     0   \n",
       "...          ...           ...     ...  ...        ...        ...   ...   \n",
       "494016         0           tcp    http   SF        310       1881     0   \n",
       "494017         0           tcp    http   SF        282       2286     0   \n",
       "494018         0           tcp    http   SF        203       1200     0   \n",
       "494019         0           tcp    http   SF        291       1200     0   \n",
       "494020         0           tcp    http   SF        219       1234     0   \n",
       "\n",
       "        wrong_fragment  urgent  hot  ...  dst_host_srv_count  \\\n",
       "0                    0       0    0  ...                   9   \n",
       "1                    0       0    0  ...                  19   \n",
       "2                    0       0    0  ...                  29   \n",
       "3                    0       0    0  ...                  39   \n",
       "4                    0       0    0  ...                  49   \n",
       "...                ...     ...  ...  ...                 ...   \n",
       "494016               0       0    0  ...                 255   \n",
       "494017               0       0    0  ...                 255   \n",
       "494018               0       0    0  ...                 255   \n",
       "494019               0       0    0  ...                 255   \n",
       "494020               0       0    0  ...                 255   \n",
       "\n",
       "        dst_host_same_srv_rate  dst_host_diff_srv_rate  \\\n",
       "0                          1.0                     0.0   \n",
       "1                          1.0                     0.0   \n",
       "2                          1.0                     0.0   \n",
       "3                          1.0                     0.0   \n",
       "4                          1.0                     0.0   \n",
       "...                        ...                     ...   \n",
       "494016                     1.0                     0.0   \n",
       "494017                     1.0                     0.0   \n",
       "494018                     1.0                     0.0   \n",
       "494019                     1.0                     0.0   \n",
       "494020                     1.0                     0.0   \n",
       "\n",
       "        dst_host_same_src_port_rate  dst_host_srv_diff_host_rate  \\\n",
       "0                              0.11                         0.00   \n",
       "1                              0.05                         0.00   \n",
       "2                              0.03                         0.00   \n",
       "3                              0.03                         0.00   \n",
       "4                              0.02                         0.00   \n",
       "...                             ...                          ...   \n",
       "494016                         0.01                         0.05   \n",
       "494017                         0.17                         0.05   \n",
       "494018                         0.06                         0.05   \n",
       "494019                         0.04                         0.05   \n",
       "494020                         0.17                         0.05   \n",
       "\n",
       "        dst_host_serror_rate  dst_host_srv_serror_rate  dst_host_rerror_rate  \\\n",
       "0                       0.00                      0.00                   0.0   \n",
       "1                       0.00                      0.00                   0.0   \n",
       "2                       0.00                      0.00                   0.0   \n",
       "3                       0.00                      0.00                   0.0   \n",
       "4                       0.00                      0.00                   0.0   \n",
       "...                      ...                       ...                   ...   \n",
       "494016                  0.00                      0.01                   0.0   \n",
       "494017                  0.00                      0.01                   0.0   \n",
       "494018                  0.06                      0.01                   0.0   \n",
       "494019                  0.04                      0.01                   0.0   \n",
       "494020                  0.00                      0.01                   0.0   \n",
       "\n",
       "        dst_host_srv_rerror_rate  Category  \n",
       "0                            0.0   normal.  \n",
       "1                            0.0   normal.  \n",
       "2                            0.0   normal.  \n",
       "3                            0.0   normal.  \n",
       "4                            0.0   normal.  \n",
       "...                          ...       ...  \n",
       "494016                       0.0   normal.  \n",
       "494017                       0.0   normal.  \n",
       "494018                       0.0   normal.  \n",
       "494019                       0.0   normal.  \n",
       "494020                       0.0   normal.  \n",
       "\n",
       "[494021 rows x 42 columns]"
      ]
     },
     "execution_count": 8,
     "metadata": {},
     "output_type": "execute_result"
    }
   ],
   "source": [
    "df"
   ]
  },
  {
   "cell_type": "code",
   "execution_count": 9,
   "id": "ccee0915",
   "metadata": {},
   "outputs": [
    {
     "data": {
      "text/plain": [
       "(494021, 42)"
      ]
     },
     "execution_count": 9,
     "metadata": {},
     "output_type": "execute_result"
    }
   ],
   "source": [
    "df.shape"
   ]
  },
  {
   "cell_type": "code",
   "execution_count": 10,
   "id": "774892a9",
   "metadata": {},
   "outputs": [
    {
     "name": "stdout",
     "output_type": "stream",
     "text": [
      "Read 494021 rows.\n",
      "========================================\n",
      "The number of data points are: 494021\n",
      "========================================\n",
      "The number of features are: 42\n",
      "========================================\n",
      "The different type of output labels are: {'loadmodule.', 'land.', 'back.', 'smurf.', 'spy.', 'ipsweep.', 'teardrop.', 'portsweep.', 'phf.', 'nmap.', 'guess_passwd.', 'satan.', 'ftp_write.', 'multihop.', 'warezmaster.', 'neptune.', 'buffer_overflow.', 'normal.', 'rootkit.', 'warezclient.', 'pod.', 'perl.', 'imap.'}\n",
      "=============================================================================================================================\n",
      "The number of different output labels are: 23\n"
     ]
    }
   ],
   "source": [
    "#Analyzing the Dataset\n",
    "print(\"Read {} rows.\".format(len(df)))\n",
    "print('='*40)\n",
    "print('The number of data points are:', df.shape[0])\n",
    "print('='*40)\n",
    "print('The number of features are:', df.shape[1])\n",
    "print('='*40)\n",
    "output = df['Category'].values\n",
    "labels = set(output)\n",
    "print('The different type of output labels are:', labels)\n",
    "print('='*125)\n",
    "print('The number of different output labels are:', len(labels))\n"
   ]
  },
  {
   "cell_type": "code",
   "execution_count": 11,
   "id": "8fe70a00",
   "metadata": {},
   "outputs": [
    {
     "name": "stdout",
     "output_type": "stream",
     "text": [
      "Null values in dataset are 0\n",
      "========================================\n"
     ]
    }
   ],
   "source": [
    "# Data Cleaning\n",
    "# Checking for NULL values\n",
    "print('Null values in dataset are',len(df[df.isnull().any(1)]))\n",
    "print('='*40)\n",
    "df.dropna(inplace=True,axis=1)"
   ]
  },
  {
   "cell_type": "code",
   "execution_count": 13,
   "id": "912eb4fa",
   "metadata": {},
   "outputs": [
    {
     "data": {
      "image/png": "[encoded data removed]",
      "text/plain": [
       "<Figure size 1080x504 with 1 Axes>"
      ]
     },
     "metadata": {
      "needs_background": "light"
     },
     "output_type": "display_data"
    }
   ],
   "source": [
    "## Exploratory data analysis\n",
    "# Exploratory data analysis\n",
    "import matplotlib.pyplot as plt\n",
    "from matplotlib.pyplot import *\n",
    "\n",
    "plt.figure(figsize=(15,7))\n",
    "class_distribution = df['Category'].value_counts()\n",
    "class_distribution.plot(kind='bar')\n",
    "plt.xlabel('Class')\n",
    "plt.ylabel('Data points per Class')\n",
    "plt.title('Distribution of yi in train data')\n",
    "plt.grid()\n",
    "plt.show()"
   ]
  },
  {
   "cell_type": "code",
   "execution_count": 14,
   "id": "0416f46b",
   "metadata": {},
   "outputs": [],
   "source": [
    "def change_label(df):\n",
    "    df.Category.replace(['back.','land.','neptune.','pod.','smurf.','teardrop.'],'Dos',inplace=True)\n",
    "    df.Category.replace(['guess_passwd.','imap.','ftp_write.','multihop.','phf.','spy.','warezclient.','warezmaster.'],'R2L',inplace=True)      \n",
    "    df.Category.replace(['ipsweep.','nmap.','portsweep.','satan.'],'Probe',inplace=True)\n",
    "    df.Category.replace(['buffer_overflow.','loadmodule.','perl.','rootkit.'],'U2R',inplace=True)"
   ]
  },
  {
   "cell_type": "code",
   "execution_count": 15,
   "id": "402573ca",
   "metadata": {},
   "outputs": [],
   "source": [
    "change_label(df)"
   ]
  },
  {
   "cell_type": "code",
   "execution_count": 16,
   "id": "c16f8875",
   "metadata": {},
   "outputs": [
    {
     "data": {
      "text/plain": [
       "Dos        391458\n",
       "normal.     97278\n",
       "Probe        4107\n",
       "R2L          1126\n",
       "U2R            52\n",
       "Name: Category, dtype: int64"
      ]
     },
     "execution_count": 16,
     "metadata": {},
     "output_type": "execute_result"
    }
   ],
   "source": [
    "df.Category.value_counts()"
   ]
  },
  {
   "cell_type": "code",
   "execution_count": 17,
   "id": "754a0fe3",
   "metadata": {},
   "outputs": [],
   "source": [
    "df_c=df.copy()"
   ]
  },
  {
   "cell_type": "code",
   "execution_count": 18,
   "id": "73defab6",
   "metadata": {},
   "outputs": [],
   "source": [
    "# one -hot coding for object dtypes\n",
    "def encode_text_dummy(df, name):\n",
    "    dummies = pd.get_dummies(df[name])\n",
    "    for x in dummies.columns:\n",
    "        dummy_name = f\"{name}-{x}\"\n",
    "        df[dummy_name] = dummies[x]\n",
    "    df.drop(name, axis=1, inplace=True)"
   ]
  },
  {
   "cell_type": "code",
   "execution_count": 19,
   "id": "f39e0c1a",
   "metadata": {},
   "outputs": [],
   "source": [
    "encode_text_dummy(df_c, 'protocol_type')"
   ]
  },
  {
   "cell_type": "code",
   "execution_count": 20,
   "id": "d0744c42",
   "metadata": {},
   "outputs": [],
   "source": [
    "encode_text_dummy(df_c, 'service')\n",
    "encode_text_dummy(df_c, 'flag')"
   ]
  },
  {
   "cell_type": "code",
   "execution_count": 21,
   "id": "1cfaccb6",
   "metadata": {},
   "outputs": [
    {
     "data": {
      "text/plain": [
       "duration          int64\n",
       "src_bytes         int64\n",
       "dst_bytes         int64\n",
       "land              int64\n",
       "wrong_fragment    int64\n",
       "                  ...  \n",
       "flag-S1           uint8\n",
       "flag-S2           uint8\n",
       "flag-S3           uint8\n",
       "flag-SF           uint8\n",
       "flag-SH           uint8\n",
       "Length: 119, dtype: object"
      ]
     },
     "execution_count": 21,
     "metadata": {},
     "output_type": "execute_result"
    }
   ],
   "source": [
    "df_c.dtypes"
   ]
  },
  {
   "cell_type": "code",
   "execution_count": 22,
   "id": "9dc0377f",
   "metadata": {},
   "outputs": [
    {
     "data": {
      "text/plain": [
       "(494021, 119)"
      ]
     },
     "execution_count": 22,
     "metadata": {},
     "output_type": "execute_result"
    }
   ],
   "source": [
    "df_c.shape"
   ]
  },
  {
   "cell_type": "code",
   "execution_count": 37,
   "id": "3628af4b",
   "metadata": {},
   "outputs": [
    {
     "data": {
      "text/plain": [
       "Index(['duration', 'src_bytes', 'dst_bytes', 'land', 'wrong_fragment',\n",
       "       'urgent', 'hot', 'num_failed_logins', 'logged_in', 'num_compromised',\n",
       "       ...\n",
       "       'flag-REJ', 'flag-RSTO', 'flag-RSTOS0', 'flag-RSTR', 'flag-S0',\n",
       "       'flag-S1', 'flag-S2', 'flag-S3', 'flag-SF', 'flag-SH'],\n",
       "      dtype='object', length=118)"
      ]
     },
     "execution_count": 37,
     "metadata": {},
     "output_type": "execute_result"
    }
   ],
   "source": [
    "df_c.columns"
   ]
  },
  {
   "cell_type": "code",
   "execution_count": 23,
   "id": "6b9f985d",
   "metadata": {},
   "outputs": [],
   "source": [
    "# normalization\n",
    "def min_max_scaling(df,name):\n",
    "    df[name] = (df[name] - df[name].min()) / (df[name].max() - df[name].min())"
   ]
  },
  {
   "cell_type": "code",
   "execution_count": 24,
   "id": "252516dc",
   "metadata": {},
   "outputs": [],
   "source": [
    "min_max_scaling(df_c, 'duration')"
   ]
  },
  {
   "cell_type": "code",
   "execution_count": 25,
   "id": "140b6154",
   "metadata": {},
   "outputs": [],
   "source": [
    "X = df_c.select_dtypes(include=[np.float64, np.int64])"
   ]
  },
  {
   "cell_type": "code",
   "execution_count": 26,
   "id": "f90747c7",
   "metadata": {},
   "outputs": [
    {
     "data": {
      "text/plain": [
       "Index(['duration', 'src_bytes', 'dst_bytes', 'land', 'wrong_fragment',\n",
       "       'urgent', 'hot', 'num_failed_logins', 'logged_in', 'num_compromised',\n",
       "       'root_shell', 'su_attempted', 'num_root', 'num_file_creations',\n",
       "       'num_shells', 'num_access_files', 'num_outbound_cmds', 'is_host_login',\n",
       "       'is_guest_login', 'count', 'srv_count', 'serror_rate',\n",
       "       'srv_serror_rate', 'rerror_rate', 'srv_rerror_rate', 'same_srv_rate',\n",
       "       'diff_srv_rate', 'srv_diff_host_rate', 'dst_host_count',\n",
       "       'dst_host_srv_count', 'dst_host_same_srv_rate',\n",
       "       'dst_host_diff_srv_rate', 'dst_host_same_src_port_rate',\n",
       "       'dst_host_srv_diff_host_rate', 'dst_host_serror_rate',\n",
       "       'dst_host_srv_serror_rate', 'dst_host_rerror_rate',\n",
       "       'dst_host_srv_rerror_rate'],\n",
       "      dtype='object')"
      ]
     },
     "execution_count": 26,
     "metadata": {},
     "output_type": "execute_result"
    }
   ],
   "source": [
    "X.columns"
   ]
  },
  {
   "cell_type": "code",
   "execution_count": 27,
   "id": "81c6a4eb",
   "metadata": {},
   "outputs": [],
   "source": [
    "min_max_scaling(df_c, 'src_bytes')\n",
    "min_max_scaling(df_c, 'dst_bytes')\n",
    "min_max_scaling(df_c, 'land')\n",
    "min_max_scaling(df_c, 'wrong_fragment')\n",
    "min_max_scaling(df_c, 'urgent')\n",
    "min_max_scaling(df_c, 'hot')\n",
    "min_max_scaling(df_c, 'num_failed_logins')\n",
    "min_max_scaling(df_c, 'logged_in')\n",
    "min_max_scaling(df_c, 'num_compromised')\n",
    "min_max_scaling(df_c, 'root_shell')\n",
    "min_max_scaling(df_c, 'su_attempted')\n",
    "min_max_scaling(df_c, 'num_root')\n",
    "min_max_scaling(df_c, 'num_file_creations')\n",
    "min_max_scaling(df_c, 'num_shells')\n",
    "min_max_scaling(df_c, 'num_access_files')\n",
    "\n",
    "min_max_scaling(df_c, 'is_guest_login')\n",
    "min_max_scaling(df_c, 'count')"
   ]
  },
  {
   "cell_type": "code",
   "execution_count": 28,
   "id": "b2091dc6",
   "metadata": {},
   "outputs": [],
   "source": [
    "min_max_scaling(df_c, 'is_host_login')\n",
    "min_max_scaling(df_c, 'srv_count')\n",
    "min_max_scaling(df_c, 'serror_rate')\n",
    "min_max_scaling(df_c, 'srv_serror_rate')\n",
    "min_max_scaling(df_c, 'rerror_rate')\n",
    "min_max_scaling(df_c, 'srv_rerror_rate')\n",
    "min_max_scaling(df_c, 'same_srv_rate')\n",
    "min_max_scaling(df_c, 'diff_srv_rate')\n",
    "min_max_scaling(df_c, 'srv_diff_host_rate')\n",
    "min_max_scaling(df_c, 'dst_host_count')\n",
    "min_max_scaling(df_c, 'diff_srv_rate')     \n",
    "min_max_scaling(df_c, 'srv_diff_host_rate')\n",
    "min_max_scaling(df_c, 'dst_host_count')\n",
    "min_max_scaling(df_c, 'dst_host_srv_count')\n",
    "min_max_scaling(df_c, 'dst_host_same_srv_rate')\n",
    "min_max_scaling(df_c, 'dst_host_diff_srv_rate')\n",
    "min_max_scaling(df_c, 'dst_host_same_src_port_rate')\n",
    "min_max_scaling(df_c, 'dst_host_srv_diff_host_rate')\n",
    "min_max_scaling(df_c, 'dst_host_serror_rate')\n",
    "min_max_scaling(df_c, 'dst_host_srv_serror_rate')\n",
    "min_max_scaling(df_c, 'dst_host_rerror_rate')\n",
    "min_max_scaling(df_c, 'dst_host_srv_rerror_rate')"
   ]
  },
  {
   "cell_type": "code",
   "execution_count": 29,
   "id": "dfe80b92",
   "metadata": {},
   "outputs": [],
   "source": [
    "df_c.dropna(inplace=True,axis=1)"
   ]
  },
  {
   "cell_type": "code",
   "execution_count": 30,
   "id": "fcb588a9",
   "metadata": {},
   "outputs": [],
   "source": [
    "# Convert to numpy - Classification\n",
    "x_columns = df_c.columns.drop('Category')\n",
    "x = df_c[x_columns].values\n",
    "dummies = pd.get_dummies(df_c['Category']) # Classification\n",
    "outcomes = dummies.columns\n",
    "num_classes = len(outcomes)\n",
    "y = dummies.values"
   ]
  },
  {
   "cell_type": "code",
   "execution_count": 31,
   "id": "cf3ec0a1",
   "metadata": {},
   "outputs": [],
   "source": [
    "from sklearn.preprocessing import LabelEncoder"
   ]
  },
  {
   "cell_type": "code",
   "execution_count": 32,
   "id": "e1b3d5fc",
   "metadata": {},
   "outputs": [],
   "source": [
    "multi_label = pd.DataFrame(df_c.Category)"
   ]
  },
  {
   "cell_type": "code",
   "execution_count": 33,
   "id": "78b7e8f7",
   "metadata": {},
   "outputs": [
    {
     "data": {
      "text/html": [
       "<div>\n",
       "<style scoped>\n",
       "    .dataframe tbody tr th:only-of-type {\n",
       "        vertical-align: middle;\n",
       "    }\n",
       "\n",
       "    .dataframe tbody tr th {\n",
       "        vertical-align: top;\n",
       "    }\n",
       "\n",
       "    .dataframe thead th {\n",
       "        text-align: right;\n",
       "    }\n",
       "</style>\n",
       "<table border=\"1\" class=\"dataframe\">\n",
       "  <thead>\n",
       "    <tr style=\"text-align: right;\">\n",
       "      <th></th>\n",
       "      <th>duration</th>\n",
       "      <th>src_bytes</th>\n",
       "      <th>dst_bytes</th>\n",
       "      <th>land</th>\n",
       "      <th>wrong_fragment</th>\n",
       "      <th>urgent</th>\n",
       "      <th>hot</th>\n",
       "      <th>num_failed_logins</th>\n",
       "      <th>logged_in</th>\n",
       "      <th>num_compromised</th>\n",
       "      <th>...</th>\n",
       "      <th>flag-REJ</th>\n",
       "      <th>flag-RSTO</th>\n",
       "      <th>flag-RSTOS0</th>\n",
       "      <th>flag-RSTR</th>\n",
       "      <th>flag-S0</th>\n",
       "      <th>flag-S1</th>\n",
       "      <th>flag-S2</th>\n",
       "      <th>flag-S3</th>\n",
       "      <th>flag-SF</th>\n",
       "      <th>flag-SH</th>\n",
       "    </tr>\n",
       "  </thead>\n",
       "  <tbody>\n",
       "    <tr>\n",
       "      <th>0</th>\n",
       "      <td>0.0</td>\n",
       "      <td>2.610418e-07</td>\n",
       "      <td>0.001057</td>\n",
       "      <td>0.0</td>\n",
       "      <td>0.0</td>\n",
       "      <td>0.0</td>\n",
       "      <td>0.0</td>\n",
       "      <td>0.0</td>\n",
       "      <td>1.0</td>\n",
       "      <td>0.0</td>\n",
       "      <td>...</td>\n",
       "      <td>0</td>\n",
       "      <td>0</td>\n",
       "      <td>0</td>\n",
       "      <td>0</td>\n",
       "      <td>0</td>\n",
       "      <td>0</td>\n",
       "      <td>0</td>\n",
       "      <td>0</td>\n",
       "      <td>1</td>\n",
       "      <td>0</td>\n",
       "    </tr>\n",
       "    <tr>\n",
       "      <th>1</th>\n",
       "      <td>0.0</td>\n",
       "      <td>3.446905e-07</td>\n",
       "      <td>0.000094</td>\n",
       "      <td>0.0</td>\n",
       "      <td>0.0</td>\n",
       "      <td>0.0</td>\n",
       "      <td>0.0</td>\n",
       "      <td>0.0</td>\n",
       "      <td>1.0</td>\n",
       "      <td>0.0</td>\n",
       "      <td>...</td>\n",
       "      <td>0</td>\n",
       "      <td>0</td>\n",
       "      <td>0</td>\n",
       "      <td>0</td>\n",
       "      <td>0</td>\n",
       "      <td>0</td>\n",
       "      <td>0</td>\n",
       "      <td>0</td>\n",
       "      <td>1</td>\n",
       "      <td>0</td>\n",
       "    </tr>\n",
       "    <tr>\n",
       "      <th>2</th>\n",
       "      <td>0.0</td>\n",
       "      <td>3.389216e-07</td>\n",
       "      <td>0.000259</td>\n",
       "      <td>0.0</td>\n",
       "      <td>0.0</td>\n",
       "      <td>0.0</td>\n",
       "      <td>0.0</td>\n",
       "      <td>0.0</td>\n",
       "      <td>1.0</td>\n",
       "      <td>0.0</td>\n",
       "      <td>...</td>\n",
       "      <td>0</td>\n",
       "      <td>0</td>\n",
       "      <td>0</td>\n",
       "      <td>0</td>\n",
       "      <td>0</td>\n",
       "      <td>0</td>\n",
       "      <td>0</td>\n",
       "      <td>0</td>\n",
       "      <td>1</td>\n",
       "      <td>0</td>\n",
       "    </tr>\n",
       "    <tr>\n",
       "      <th>3</th>\n",
       "      <td>0.0</td>\n",
       "      <td>3.158461e-07</td>\n",
       "      <td>0.000259</td>\n",
       "      <td>0.0</td>\n",
       "      <td>0.0</td>\n",
       "      <td>0.0</td>\n",
       "      <td>0.0</td>\n",
       "      <td>0.0</td>\n",
       "      <td>1.0</td>\n",
       "      <td>0.0</td>\n",
       "      <td>...</td>\n",
       "      <td>0</td>\n",
       "      <td>0</td>\n",
       "      <td>0</td>\n",
       "      <td>0</td>\n",
       "      <td>0</td>\n",
       "      <td>0</td>\n",
       "      <td>0</td>\n",
       "      <td>0</td>\n",
       "      <td>1</td>\n",
       "      <td>0</td>\n",
       "    </tr>\n",
       "    <tr>\n",
       "      <th>4</th>\n",
       "      <td>0.0</td>\n",
       "      <td>3.129617e-07</td>\n",
       "      <td>0.000394</td>\n",
       "      <td>0.0</td>\n",
       "      <td>0.0</td>\n",
       "      <td>0.0</td>\n",
       "      <td>0.0</td>\n",
       "      <td>0.0</td>\n",
       "      <td>1.0</td>\n",
       "      <td>0.0</td>\n",
       "      <td>...</td>\n",
       "      <td>0</td>\n",
       "      <td>0</td>\n",
       "      <td>0</td>\n",
       "      <td>0</td>\n",
       "      <td>0</td>\n",
       "      <td>0</td>\n",
       "      <td>0</td>\n",
       "      <td>0</td>\n",
       "      <td>1</td>\n",
       "      <td>0</td>\n",
       "    </tr>\n",
       "    <tr>\n",
       "      <th>...</th>\n",
       "      <td>...</td>\n",
       "      <td>...</td>\n",
       "      <td>...</td>\n",
       "      <td>...</td>\n",
       "      <td>...</td>\n",
       "      <td>...</td>\n",
       "      <td>...</td>\n",
       "      <td>...</td>\n",
       "      <td>...</td>\n",
       "      <td>...</td>\n",
       "      <td>...</td>\n",
       "      <td>...</td>\n",
       "      <td>...</td>\n",
       "      <td>...</td>\n",
       "      <td>...</td>\n",
       "      <td>...</td>\n",
       "      <td>...</td>\n",
       "      <td>...</td>\n",
       "      <td>...</td>\n",
       "      <td>...</td>\n",
       "      <td>...</td>\n",
       "    </tr>\n",
       "    <tr>\n",
       "      <th>494016</th>\n",
       "      <td>0.0</td>\n",
       "      <td>4.470881e-07</td>\n",
       "      <td>0.000365</td>\n",
       "      <td>0.0</td>\n",
       "      <td>0.0</td>\n",
       "      <td>0.0</td>\n",
       "      <td>0.0</td>\n",
       "      <td>0.0</td>\n",
       "      <td>1.0</td>\n",
       "      <td>0.0</td>\n",
       "      <td>...</td>\n",
       "      <td>0</td>\n",
       "      <td>0</td>\n",
       "      <td>0</td>\n",
       "      <td>0</td>\n",
       "      <td>0</td>\n",
       "      <td>0</td>\n",
       "      <td>0</td>\n",
       "      <td>0</td>\n",
       "      <td>1</td>\n",
       "      <td>0</td>\n",
       "    </tr>\n",
       "    <tr>\n",
       "      <th>494017</th>\n",
       "      <td>0.0</td>\n",
       "      <td>4.067060e-07</td>\n",
       "      <td>0.000443</td>\n",
       "      <td>0.0</td>\n",
       "      <td>0.0</td>\n",
       "      <td>0.0</td>\n",
       "      <td>0.0</td>\n",
       "      <td>0.0</td>\n",
       "      <td>1.0</td>\n",
       "      <td>0.0</td>\n",
       "      <td>...</td>\n",
       "      <td>0</td>\n",
       "      <td>0</td>\n",
       "      <td>0</td>\n",
       "      <td>0</td>\n",
       "      <td>0</td>\n",
       "      <td>0</td>\n",
       "      <td>0</td>\n",
       "      <td>0</td>\n",
       "      <td>1</td>\n",
       "      <td>0</td>\n",
       "    </tr>\n",
       "    <tr>\n",
       "      <th>494018</th>\n",
       "      <td>0.0</td>\n",
       "      <td>2.927706e-07</td>\n",
       "      <td>0.000233</td>\n",
       "      <td>0.0</td>\n",
       "      <td>0.0</td>\n",
       "      <td>0.0</td>\n",
       "      <td>0.0</td>\n",
       "      <td>0.0</td>\n",
       "      <td>1.0</td>\n",
       "      <td>0.0</td>\n",
       "      <td>...</td>\n",
       "      <td>0</td>\n",
       "      <td>0</td>\n",
       "      <td>0</td>\n",
       "      <td>0</td>\n",
       "      <td>0</td>\n",
       "      <td>0</td>\n",
       "      <td>0</td>\n",
       "      <td>0</td>\n",
       "      <td>1</td>\n",
       "      <td>0</td>\n",
       "    </tr>\n",
       "    <tr>\n",
       "      <th>494019</th>\n",
       "      <td>0.0</td>\n",
       "      <td>4.196859e-07</td>\n",
       "      <td>0.000233</td>\n",
       "      <td>0.0</td>\n",
       "      <td>0.0</td>\n",
       "      <td>0.0</td>\n",
       "      <td>0.0</td>\n",
       "      <td>0.0</td>\n",
       "      <td>1.0</td>\n",
       "      <td>0.0</td>\n",
       "      <td>...</td>\n",
       "      <td>0</td>\n",
       "      <td>0</td>\n",
       "      <td>0</td>\n",
       "      <td>0</td>\n",
       "      <td>0</td>\n",
       "      <td>0</td>\n",
       "      <td>0</td>\n",
       "      <td>0</td>\n",
       "      <td>1</td>\n",
       "      <td>0</td>\n",
       "    </tr>\n",
       "    <tr>\n",
       "      <th>494020</th>\n",
       "      <td>0.0</td>\n",
       "      <td>3.158461e-07</td>\n",
       "      <td>0.000239</td>\n",
       "      <td>0.0</td>\n",
       "      <td>0.0</td>\n",
       "      <td>0.0</td>\n",
       "      <td>0.0</td>\n",
       "      <td>0.0</td>\n",
       "      <td>1.0</td>\n",
       "      <td>0.0</td>\n",
       "      <td>...</td>\n",
       "      <td>0</td>\n",
       "      <td>0</td>\n",
       "      <td>0</td>\n",
       "      <td>0</td>\n",
       "      <td>0</td>\n",
       "      <td>0</td>\n",
       "      <td>0</td>\n",
       "      <td>0</td>\n",
       "      <td>1</td>\n",
       "      <td>0</td>\n",
       "    </tr>\n",
       "  </tbody>\n",
       "</table>\n",
       "<p>494021 rows × 118 columns</p>\n",
       "</div>"
      ],
      "text/plain": [
       "        duration     src_bytes  dst_bytes  land  wrong_fragment  urgent  hot  \\\n",
       "0            0.0  2.610418e-07   0.001057   0.0             0.0     0.0  0.0   \n",
       "1            0.0  3.446905e-07   0.000094   0.0             0.0     0.0  0.0   \n",
       "2            0.0  3.389216e-07   0.000259   0.0             0.0     0.0  0.0   \n",
       "3            0.0  3.158461e-07   0.000259   0.0             0.0     0.0  0.0   \n",
       "4            0.0  3.129617e-07   0.000394   0.0             0.0     0.0  0.0   \n",
       "...          ...           ...        ...   ...             ...     ...  ...   \n",
       "494016       0.0  4.470881e-07   0.000365   0.0             0.0     0.0  0.0   \n",
       "494017       0.0  4.067060e-07   0.000443   0.0             0.0     0.0  0.0   \n",
       "494018       0.0  2.927706e-07   0.000233   0.0             0.0     0.0  0.0   \n",
       "494019       0.0  4.196859e-07   0.000233   0.0             0.0     0.0  0.0   \n",
       "494020       0.0  3.158461e-07   0.000239   0.0             0.0     0.0  0.0   \n",
       "\n",
       "        num_failed_logins  logged_in  num_compromised  ...  flag-REJ  \\\n",
       "0                     0.0        1.0              0.0  ...         0   \n",
       "1                     0.0        1.0              0.0  ...         0   \n",
       "2                     0.0        1.0              0.0  ...         0   \n",
       "3                     0.0        1.0              0.0  ...         0   \n",
       "4                     0.0        1.0              0.0  ...         0   \n",
       "...                   ...        ...              ...  ...       ...   \n",
       "494016                0.0        1.0              0.0  ...         0   \n",
       "494017                0.0        1.0              0.0  ...         0   \n",
       "494018                0.0        1.0              0.0  ...         0   \n",
       "494019                0.0        1.0              0.0  ...         0   \n",
       "494020                0.0        1.0              0.0  ...         0   \n",
       "\n",
       "        flag-RSTO  flag-RSTOS0  flag-RSTR  flag-S0  flag-S1  flag-S2  flag-S3  \\\n",
       "0               0            0          0        0        0        0        0   \n",
       "1               0            0          0        0        0        0        0   \n",
       "2               0            0          0        0        0        0        0   \n",
       "3               0            0          0        0        0        0        0   \n",
       "4               0            0          0        0        0        0        0   \n",
       "...           ...          ...        ...      ...      ...      ...      ...   \n",
       "494016          0            0          0        0        0        0        0   \n",
       "494017          0            0          0        0        0        0        0   \n",
       "494018          0            0          0        0        0        0        0   \n",
       "494019          0            0          0        0        0        0        0   \n",
       "494020          0            0          0        0        0        0        0   \n",
       "\n",
       "        flag-SF  flag-SH  \n",
       "0             1        0  \n",
       "1             1        0  \n",
       "2             1        0  \n",
       "3             1        0  \n",
       "4             1        0  \n",
       "...         ...      ...  \n",
       "494016        1        0  \n",
       "494017        1        0  \n",
       "494018        1        0  \n",
       "494019        1        0  \n",
       "494020        1        0  \n",
       "\n",
       "[494021 rows x 118 columns]"
      ]
     },
     "execution_count": 33,
     "metadata": {},
     "output_type": "execute_result"
    }
   ],
   "source": [
    "le2 = preprocessing.LabelEncoder()\n",
    "enc_label = multi_label.apply(le2.fit_transform)\n",
    "df_c['Category'] = enc_label\n",
    "#y_mul = multi_data['intrusion']\n",
    "df_c"
   ]
  },
  {
   "cell_type": "code",
   "execution_count": 172,
   "id": "bab509f8",
   "metadata": {},
   "outputs": [
    {
     "name": "stderr",
     "output_type": "stream",
     "text": [
      "C:\\Users\\HP\\AppData\\Roaming\\Python\\Python38\\site-packages\\sklearn\\preprocessing\\_label.py:154: DataConversionWarning: A column-vector y was passed when a 1d array was expected. Please change the shape of y to (n_samples, ), for example using ravel().\n",
      "  y = column_or_1d(y, warn=True)\n"
     ]
    }
   ],
   "source": [
    "inv = le2.inverse_transform(enc_label)"
   ]
  },
  {
   "cell_type": "code",
   "execution_count": 181,
   "id": "eab7be35",
   "metadata": {},
   "outputs": [],
   "source": [
    "data1=multi_label.copy()"
   ]
  },
  {
   "cell_type": "code",
   "execution_count": 182,
   "id": "a066a3de",
   "metadata": {},
   "outputs": [
    {
     "name": "stdout",
     "output_type": "stream",
     "text": [
      "      Category  buying_encoded\n",
      "0      normal.               4\n",
      "744        U2R               3\n",
      "7601       Dos               0\n",
      "15699      R2L               2\n",
      "22814    Probe               1\n"
     ]
    }
   ],
   "source": [
    "data1['buying_encoded']=enc_label.values\n",
    "#data['buying_encoded'] = le2.fit_transform(data['Category'].values)\n",
    "data1 = data1.drop_duplicates('Category')\n",
    "print(data1)"
   ]
  },
  {
   "cell_type": "code",
   "execution_count": 173,
   "id": "75150733",
   "metadata": {},
   "outputs": [
    {
     "data": {
      "text/plain": [
       "array(['normal.', 'normal.', 'normal.', ..., 'normal.', 'normal.',\n",
       "       'normal.'], dtype=object)"
      ]
     },
     "execution_count": 173,
     "metadata": {},
     "output_type": "execute_result"
    }
   ],
   "source": [
    "inv"
   ]
  },
  {
   "cell_type": "code",
   "execution_count": 34,
   "id": "7186a65f",
   "metadata": {},
   "outputs": [
    {
     "data": {
      "text/plain": [
       "0         4\n",
       "1         4\n",
       "2         4\n",
       "3         4\n",
       "4         4\n",
       "         ..\n",
       "494016    4\n",
       "494017    4\n",
       "494018    4\n",
       "494019    4\n",
       "494020    4\n",
       "Name: Category, Length: 494021, dtype: int32"
      ]
     },
     "execution_count": 34,
     "metadata": {},
     "output_type": "execute_result"
    }
   ],
   "source": [
    "df_c['Category']"
   ]
  },
  {
   "cell_type": "code",
   "execution_count": 38,
   "id": "9ebd833b",
   "metadata": {},
   "outputs": [],
   "source": [
    "x_columns = df_c.columns.drop('Category')\n",
    "x = df_c[x_columns].values\n",
    "y=df_c['Category'].values"
   ]
  },
  {
   "cell_type": "code",
   "execution_count": 39,
   "id": "267cc256",
   "metadata": {},
   "outputs": [],
   "source": [
    "cor_matrix = df_c.corr().abs()"
   ]
  },
  {
   "cell_type": "code",
   "execution_count": 42,
   "id": "0b113899",
   "metadata": {},
   "outputs": [
    {
     "name": "stdout",
     "output_type": "stream",
     "text": [
      "                duration  src_bytes  dst_bytes      land  wrong_fragment  \\\n",
      "duration             NaN   0.004258   0.005440  0.000452        0.003235   \n",
      "src_bytes            NaN        NaN   0.000002  0.000020        0.000139   \n",
      "dst_bytes            NaN        NaN        NaN  0.000175        0.001254   \n",
      "land                 NaN        NaN        NaN       NaN        0.000318   \n",
      "wrong_fragment       NaN        NaN        NaN       NaN             NaN   \n",
      "...                  ...        ...        ...       ...             ...   \n",
      "flag-S1              NaN        NaN        NaN       NaN             NaN   \n",
      "flag-S2              NaN        NaN        NaN       NaN             NaN   \n",
      "flag-S3              NaN        NaN        NaN       NaN             NaN   \n",
      "flag-SF              NaN        NaN        NaN       NaN             NaN   \n",
      "flag-SH              NaN        NaN        NaN       NaN             NaN   \n",
      "\n",
      "                  urgent       hot  num_failed_logins  logged_in  \\\n",
      "duration        0.003786  0.013213           0.005239   0.017265   \n",
      "src_bytes       0.000005  0.004483           0.000027   0.001701   \n",
      "dst_bytes       0.016288  0.004365           0.049330   0.047814   \n",
      "land            0.000017  0.000295           0.000065   0.002784   \n",
      "wrong_fragment  0.000123  0.002106           0.000467   0.019908   \n",
      "...                  ...       ...                ...        ...   \n",
      "flag-S1              NaN       NaN                NaN        NaN   \n",
      "flag-S2              NaN       NaN                NaN        NaN   \n",
      "flag-S3              NaN       NaN                NaN        NaN   \n",
      "flag-SF              NaN       NaN                NaN        NaN   \n",
      "flag-SH              NaN       NaN                NaN        NaN   \n",
      "\n",
      "                num_compromised  ...  flag-REJ  flag-RSTO  flag-RSTOS0  \\\n",
      "duration               0.058095  ...  0.016260   0.002157     0.021772   \n",
      "src_bytes              0.000119  ...  0.000734   0.041407     0.000014   \n",
      "dst_bytes              0.023298  ...  0.006305   0.000449     0.000124   \n",
      "land                   0.000038  ...  0.001601   0.000229     0.000031   \n",
      "wrong_fragment         0.000271  ...  0.011446   0.001635     0.000225   \n",
      "...                         ...  ...       ...        ...          ...   \n",
      "flag-S1                     NaN  ...       NaN        NaN          NaN   \n",
      "flag-S2                     NaN  ...       NaN        NaN          NaN   \n",
      "flag-S3                     NaN  ...       NaN        NaN          NaN   \n",
      "flag-SF                     NaN  ...       NaN        NaN          NaN   \n",
      "flag-SH                     NaN  ...       NaN        NaN          NaN   \n",
      "\n",
      "                flag-RSTR   flag-S0   flag-S1   flag-S2   flag-S3   flag-SF  \\\n",
      "duration         0.148471  0.031344  0.000728  0.000456  0.002990  0.021548   \n",
      "src_bytes        0.000189  0.001416  0.000116  0.000064  0.002325  0.001725   \n",
      "dst_bytes        0.000099  0.012154  0.008182  0.006520  0.000474  0.014036   \n",
      "land             0.000286  0.014434  0.000072  0.000047  0.000030  0.012075   \n",
      "wrong_fragment   0.002042  0.022064  0.000513  0.000333  0.000215  0.026372   \n",
      "...                   ...       ...       ...       ...       ...       ...   \n",
      "flag-S1               NaN       NaN       NaN  0.000075  0.000048  0.019438   \n",
      "flag-S2               NaN       NaN       NaN       NaN  0.000031  0.012612   \n",
      "flag-S3               NaN       NaN       NaN       NaN       NaN  0.008141   \n",
      "flag-SF               NaN       NaN       NaN       NaN       NaN       NaN   \n",
      "flag-SH               NaN       NaN       NaN       NaN       NaN       NaN   \n",
      "\n",
      "                 flag-SH  \n",
      "duration        0.000998  \n",
      "src_bytes       0.000045  \n",
      "dst_bytes       0.000387  \n",
      "land            0.000098  \n",
      "wrong_fragment  0.000702  \n",
      "...                  ...  \n",
      "flag-S1         0.000158  \n",
      "flag-S2         0.000103  \n",
      "flag-S3         0.000066  \n",
      "flag-SF         0.026633  \n",
      "flag-SH              NaN  \n",
      "\n",
      "[118 rows x 118 columns]\n"
     ]
    }
   ],
   "source": [
    "upper_tri = cor_matrix.where(np.triu(np.ones(cor_matrix.shape),k=1).astype(bool))\n",
    "print(upper_tri)"
   ]
  },
  {
   "cell_type": "code",
   "execution_count": 73,
   "id": "9958a6e1",
   "metadata": {},
   "outputs": [
    {
     "name": "stdout",
     "output_type": "stream",
     "text": [
      "\n",
      "16\n"
     ]
    }
   ],
   "source": [
    "to_drop = [column for column in upper_tri.columns if any(upper_tri[column] > 0.92)]\n",
    "print(); print(len(to_drop))"
   ]
  },
  {
   "cell_type": "code",
   "execution_count": 74,
   "id": "cdac0a77",
   "metadata": {},
   "outputs": [
    {
     "data": {
      "text/plain": [
       "['num_root',\n",
       " 'srv_count',\n",
       " 'srv_serror_rate',\n",
       " 'srv_rerror_rate',\n",
       " 'dst_host_same_srv_rate',\n",
       " 'dst_host_same_src_port_rate',\n",
       " 'dst_host_serror_rate',\n",
       " 'dst_host_srv_serror_rate',\n",
       " 'dst_host_rerror_rate',\n",
       " 'dst_host_srv_rerror_rate',\n",
       " 'protocol_type-icmp',\n",
       " 'service-ecr_i',\n",
       " 'service-ftp',\n",
       " 'flag-REJ',\n",
       " 'flag-S0',\n",
       " 'flag-SF']"
      ]
     },
     "execution_count": 74,
     "metadata": {},
     "output_type": "execute_result"
    }
   ],
   "source": [
    "to_drop"
   ]
  },
  {
   "cell_type": "code",
   "execution_count": 48,
   "id": "2fa613d7",
   "metadata": {},
   "outputs": [
    {
     "data": {
      "text/plain": [
       "(494021, 118)"
      ]
     },
     "execution_count": 48,
     "metadata": {},
     "output_type": "execute_result"
    }
   ],
   "source": [
    "df_c.shape"
   ]
  },
  {
   "cell_type": "code",
   "execution_count": 49,
   "id": "6c6b53ec",
   "metadata": {},
   "outputs": [],
   "source": [
    "df_c = df_c[[col for col in df_c if df_c[col].nunique() > 1]]# keep columns where there are more than 1 unique values"
   ]
  },
  {
   "cell_type": "code",
   "execution_count": 51,
   "id": "cc6712a8",
   "metadata": {},
   "outputs": [
    {
     "data": {
      "text/plain": [
       "(494021, 117)"
      ]
     },
     "execution_count": 51,
     "metadata": {},
     "output_type": "execute_result"
    }
   ],
   "source": [
    "df_c.shape"
   ]
  },
  {
   "cell_type": "code",
   "execution_count": 54,
   "id": "91fb6e39",
   "metadata": {},
   "outputs": [
    {
     "data": {
      "text/plain": [
       "Index(['duration', 'src_bytes', 'dst_bytes', 'land', 'wrong_fragment',\n",
       "       'urgent', 'hot', 'num_failed_logins', 'logged_in', 'num_compromised',\n",
       "       ...\n",
       "       'flag-REJ', 'flag-RSTO', 'flag-RSTOS0', 'flag-RSTR', 'flag-S0',\n",
       "       'flag-S1', 'flag-S2', 'flag-S3', 'flag-SF', 'flag-SH'],\n",
       "      dtype='object', length=117)"
      ]
     },
     "execution_count": 54,
     "metadata": {},
     "output_type": "execute_result"
    }
   ],
   "source": [
    "df2=df_c.copy()\n",
    "df2.columns"
   ]
  },
  {
   "cell_type": "code",
   "execution_count": 56,
   "id": "14426569",
   "metadata": {},
   "outputs": [
    {
     "name": "stdout",
     "output_type": "stream",
     "text": [
      "num_root\n",
      "srv_count\n",
      "srv_serror_rate\n",
      "srv_rerror_rate\n",
      "dst_host_same_srv_rate\n",
      "dst_host_same_src_port_rate\n",
      "dst_host_serror_rate\n",
      "dst_host_srv_serror_rate\n",
      "dst_host_rerror_rate\n",
      "dst_host_srv_rerror_rate\n",
      "protocol_type-icmp\n",
      "service-ecr_i\n",
      "flag-REJ\n",
      "flag-S0\n",
      "flag-SF\n"
     ]
    }
   ],
   "source": [
    "for i in to_drop:\n",
    "    if i in df_c.columns:\n",
    "        print(i)"
   ]
  },
  {
   "cell_type": "code",
   "execution_count": 62,
   "id": "8b2def77",
   "metadata": {},
   "outputs": [],
   "source": [
    "df2.drop(['num_root'],axis=1,inplace=True)"
   ]
  },
  {
   "cell_type": "code",
   "execution_count": 64,
   "id": "ac396461",
   "metadata": {},
   "outputs": [],
   "source": [
    "df2.drop(['srv_count','srv_serror_rate','srv_rerror_rate','dst_host_same_srv_rate','dst_host_same_src_port_rate','dst_host_serror_rate','dst_host_srv_serror_rate','dst_host_rerror_rate','dst_host_srv_rerror_rate'],axis=1,inplace=True)"
   ]
  },
  {
   "cell_type": "code",
   "execution_count": 65,
   "id": "76e5b25b",
   "metadata": {},
   "outputs": [],
   "source": [
    "df2.drop(['protocol_type-icmp','service-ecr_i','flag-REJ','flag-S0','flag-SF'],axis=1,inplace=True)"
   ]
  },
  {
   "cell_type": "code",
   "execution_count": 75,
   "id": "65ee81f2",
   "metadata": {},
   "outputs": [],
   "source": [
    "df2.drop(['service-ftp'],axis=1,inplace=True)"
   ]
  },
  {
   "cell_type": "code",
   "execution_count": 76,
   "id": "be7f5c38",
   "metadata": {},
   "outputs": [
    {
     "data": {
      "text/plain": [
       "(494021, 101)"
      ]
     },
     "execution_count": 76,
     "metadata": {},
     "output_type": "execute_result"
    }
   ],
   "source": [
    "df2.shape"
   ]
  },
  {
   "cell_type": "code",
   "execution_count": 67,
   "id": "61b1a8b9",
   "metadata": {},
   "outputs": [],
   "source": [
    "df2 = df2[[col for col in df2 if df2[col].nunique() > 1]]# keep columns where there are more than 1 unique values"
   ]
  },
  {
   "cell_type": "code",
   "execution_count": 77,
   "id": "5510ee36",
   "metadata": {},
   "outputs": [
    {
     "data": {
      "text/plain": [
       "(494021, 101)"
      ]
     },
     "execution_count": 77,
     "metadata": {},
     "output_type": "execute_result"
    }
   ],
   "source": [
    "df2.shape"
   ]
  },
  {
   "cell_type": "code",
   "execution_count": 78,
   "id": "ed5ef7fe",
   "metadata": {},
   "outputs": [],
   "source": [
    "x_columns = df2.columns.drop('Category')\n",
    "x = df2[x_columns].values\n",
    "y=df2['Category'].values"
   ]
  },
  {
   "cell_type": "code",
   "execution_count": 79,
   "id": "5aa1b1c8",
   "metadata": {},
   "outputs": [
    {
     "name": "stdout",
     "output_type": "stream",
     "text": [
      "X_train has shape: (494021, 100) \n",
      "y_train has shape: (494021, 1)\n"
     ]
    }
   ],
   "source": [
    "y_train_multi= df2[['Category']]\n",
    "X_train_multi= df2.drop(labels=['Category'], axis=1)\n",
    "\n",
    "print('X_train has shape:',X_train_multi.shape,'\\ny_train has shape:',y_train_multi.shape)"
   ]
  },
  {
   "cell_type": "code",
   "execution_count": 80,
   "id": "9d709666",
   "metadata": {},
   "outputs": [
    {
     "data": {
      "text/plain": [
       "array([[0, 0, 0, 0, 1],\n",
       "       [0, 0, 0, 0, 1],\n",
       "       [0, 0, 0, 0, 1],\n",
       "       ...,\n",
       "       [0, 0, 0, 0, 1],\n",
       "       [0, 0, 0, 0, 1],\n",
       "       [0, 0, 0, 0, 1]])"
      ]
     },
     "execution_count": 80,
     "metadata": {},
     "output_type": "execute_result"
    }
   ],
   "source": [
    "from sklearn.preprocessing import LabelBinarizer\n",
    "\n",
    "y_train_multi = LabelBinarizer().fit_transform(y_train_multi)\n",
    "y_train_multi"
   ]
  },
  {
   "cell_type": "code",
   "execution_count": 81,
   "id": "81220871",
   "metadata": {},
   "outputs": [],
   "source": [
    "X_train_multi=np.array(X_train_multi)\n",
    "y_train_multi=np.array(y_train_multi)"
   ]
  },
  {
   "cell_type": "code",
   "execution_count": 82,
   "id": "441b1d18",
   "metadata": {},
   "outputs": [],
   "source": [
    "from sklearn.model_selection import train_test_split "
   ]
  },
  {
   "cell_type": "code",
   "execution_count": 83,
   "id": "d40e38a2",
   "metadata": {},
   "outputs": [],
   "source": [
    "# splitting the dataset 80% for training and 20% testing\n",
    "X_train, X_test, y_train, y_test = train_test_split(X_train_multi,y_train_multi, test_size=0.20, random_state=42)\n"
   ]
  },
  {
   "cell_type": "code",
   "execution_count": 158,
   "id": "09141a2a",
   "metadata": {},
   "outputs": [
    {
     "data": {
      "text/plain": [
       "array([[1, 0, 0, 0, 0],\n",
       "       [1, 0, 0, 0, 0],\n",
       "       [1, 0, 0, 0, 0],\n",
       "       ...,\n",
       "       [0, 0, 0, 0, 1],\n",
       "       [1, 0, 0, 0, 0],\n",
       "       [0, 0, 0, 0, 1]])"
      ]
     },
     "execution_count": 158,
     "metadata": {},
     "output_type": "execute_result"
    }
   ],
   "source": [
    "y_test"
   ]
  },
  {
   "cell_type": "code",
   "execution_count": 133,
   "id": "69467ccd",
   "metadata": {},
   "outputs": [
    {
     "data": {
      "text/plain": [
       "(395216, 1, 10, 10)"
      ]
     },
     "execution_count": 133,
     "metadata": {},
     "output_type": "execute_result"
    }
   ],
   "source": [
    "X_train = np.reshape(X_train, (X_train.shape[0],1, 10, 10))\n",
    "X_train.shape"
   ]
  },
  {
   "cell_type": "code",
   "execution_count": 134,
   "id": "d8a4f7b2",
   "metadata": {},
   "outputs": [
    {
     "data": {
      "text/plain": [
       "(98805, 1, 10, 10)"
      ]
     },
     "execution_count": 134,
     "metadata": {},
     "output_type": "execute_result"
    }
   ],
   "source": [
    "X_test = np.reshape(X_test, (X_test.shape[0],1, 10, 10))\n",
    "X_test.shape"
   ]
  },
  {
   "cell_type": "code",
   "execution_count": 117,
   "id": "e524a48e",
   "metadata": {},
   "outputs": [],
   "source": [
    "batch_input_shape = (X_test.shape[0],1,X_test.shape[1], 10)"
   ]
  },
  {
   "cell_type": "code",
   "execution_count": 137,
   "id": "1a3764f9",
   "metadata": {},
   "outputs": [],
   "source": [
    "def model():\n",
    "    model = Sequential()\n",
    "    model.add(TimeDistributed(Conv1D(64,3,activation='relu')))\n",
    "    model.add(TimeDistributed(MaxPooling1D(2)))\n",
    "    model.add(TimeDistributed(Conv1D(64,3,activation='relu')))\n",
    "    model.add(TimeDistributed(MaxPooling1D(2)))\n",
    "    model.add(TimeDistributed(Flatten()))\n",
    "    model.add(LSTM(35,return_sequences=True))\n",
    "    model.add(Dropout(rate=0.1))\n",
    "    model.add(LSTM(25))\n",
    "    model.add(Dropout(rate=0.1))\n",
    "    model.add(Dense(5,activation='sigmoid'))\n",
    "    optimizer = Adam(learning_rate=learning_rate)\n",
    "    #model.compile(loss='binary_crossentropy', optimizer=optimizer,metrics=['accuracy'])\n",
    "    model.compile(loss='binary_crossentropy', optimizer=optimizer,metrics=[keras.metrics.AUC(name='auc')])\n",
    "    return model"
   ]
  },
  {
   "cell_type": "code",
   "execution_count": 119,
   "id": "b4a268cb",
   "metadata": {},
   "outputs": [],
   "source": [
    "learning_rate=0.001\n",
    "#batch_size=40\n",
    "epochs = 25"
   ]
  },
  {
   "cell_type": "code",
   "execution_count": 95,
   "id": "f8feb036",
   "metadata": {},
   "outputs": [],
   "source": [
    "from keras.layers import TimeDistributed"
   ]
  },
  {
   "cell_type": "code",
   "execution_count": 138,
   "id": "9e317ffa",
   "metadata": {},
   "outputs": [],
   "source": [
    "model = model()"
   ]
  },
  {
   "cell_type": "code",
   "execution_count": 139,
   "id": "f33963ea",
   "metadata": {},
   "outputs": [],
   "source": [
    "model.build(batch_input_shape)"
   ]
  },
  {
   "cell_type": "code",
   "execution_count": 140,
   "id": "6f0f02de",
   "metadata": {},
   "outputs": [
    {
     "name": "stdout",
     "output_type": "stream",
     "text": [
      "Model: \"sequential_14\"\n",
      "_________________________________________________________________\n",
      " Layer (type)                Output Shape              Param #   \n",
      "=================================================================\n",
      " time_distributed_43 (TimeDi  (98805, 1, 8, 64)        1984      \n",
      " stributed)                                                      \n",
      "                                                                 \n",
      " time_distributed_44 (TimeDi  (98805, 1, 4, 64)        0         \n",
      " stributed)                                                      \n",
      "                                                                 \n",
      " time_distributed_45 (TimeDi  (98805, 1, 2, 64)        12352     \n",
      " stributed)                                                      \n",
      "                                                                 \n",
      " time_distributed_46 (TimeDi  (98805, 1, 1, 64)        0         \n",
      " stributed)                                                      \n",
      "                                                                 \n",
      " time_distributed_47 (TimeDi  (98805, 1, 64)           0         \n",
      " stributed)                                                      \n",
      "                                                                 \n",
      " lstm_15 (LSTM)              (98805, 1, 35)            14000     \n",
      "                                                                 \n",
      " dropout_14 (Dropout)        (98805, 1, 35)            0         \n",
      "                                                                 \n",
      " lstm_16 (LSTM)              (98805, 25)               6100      \n",
      "                                                                 \n",
      " dropout_15 (Dropout)        (98805, 25)               0         \n",
      "                                                                 \n",
      " dense_7 (Dense)             (98805, 5)                130       \n",
      "                                                                 \n",
      "=================================================================\n",
      "Total params: 34,566\n",
      "Trainable params: 34,566\n",
      "Non-trainable params: 0\n",
      "_________________________________________________________________\n"
     ]
    }
   ],
   "source": [
    "model.summary()"
   ]
  },
  {
   "cell_type": "code",
   "execution_count": 131,
   "id": "49d8a38f",
   "metadata": {},
   "outputs": [],
   "source": [
    "early_stop = EarlyStopping(monitor = 'val_loss', min_delta = 0.0001, \n",
    "                           patience = 10, mode = 'min', verbose = 1,\n",
    "                           restore_best_weights = True)"
   ]
  },
  {
   "cell_type": "code",
   "execution_count": 141,
   "id": "d8a81bd7",
   "metadata": {},
   "outputs": [
    {
     "name": "stdout",
     "output_type": "stream",
     "text": [
      "Epoch 1/25\n",
      "633/633 [==============================] - 12s 12ms/step - loss: 0.1610 - auc: 0.9770 - val_loss: 0.0284 - val_auc: 0.9988\n",
      "Epoch 2/25\n",
      "633/633 [==============================] - 7s 10ms/step - loss: 0.0233 - auc: 0.9989 - val_loss: 0.0192 - val_auc: 0.9993\n",
      "Epoch 3/25\n",
      "633/633 [==============================] - 7s 10ms/step - loss: 0.0167 - auc: 0.9994 - val_loss: 0.0140 - val_auc: 0.9996\n",
      "Epoch 4/25\n",
      "633/633 [==============================] - 7s 10ms/step - loss: 0.0112 - auc: 0.9996 - val_loss: 0.0059 - val_auc: 0.9998\n",
      "Epoch 5/25\n",
      "633/633 [==============================] - 8s 12ms/step - loss: 0.0051 - auc: 0.9997 - val_loss: 0.0038 - val_auc: 0.9998\n",
      "Epoch 6/25\n",
      "633/633 [==============================] - 7s 12ms/step - loss: 0.0062 - auc: 0.9994 - val_loss: 0.0032 - val_auc: 0.9998\n",
      "Epoch 7/25\n",
      "633/633 [==============================] - 7s 12ms/step - loss: 0.0033 - auc: 0.9998 - val_loss: 0.0028 - val_auc: 0.9998\n",
      "Epoch 8/25\n",
      "633/633 [==============================] - 7s 12ms/step - loss: 0.0027 - auc: 0.9998 - val_loss: 0.0022 - val_auc: 0.9998\n",
      "Epoch 9/25\n",
      "633/633 [==============================] - 8s 12ms/step - loss: 0.0022 - auc: 0.9998 - val_loss: 0.0019 - val_auc: 0.9998\n",
      "Epoch 10/25\n",
      "633/633 [==============================] - 7s 12ms/step - loss: 0.0020 - auc: 0.9998 - val_loss: 0.0018 - val_auc: 0.9998\n",
      "Epoch 11/25\n",
      "633/633 [==============================] - 7s 12ms/step - loss: 0.0018 - auc: 0.9999 - val_loss: 0.0016 - val_auc: 0.9998\n",
      "Epoch 12/25\n",
      "633/633 [==============================] - 8s 12ms/step - loss: 0.0017 - auc: 0.9999 - val_loss: 0.0017 - val_auc: 0.9998\n",
      "Epoch 13/25\n",
      "633/633 [==============================] - 8s 12ms/step - loss: 0.0016 - auc: 0.9999 - val_loss: 0.0014 - val_auc: 0.9999\n",
      "Epoch 14/25\n",
      "633/633 [==============================] - 7s 12ms/step - loss: 0.0015 - auc: 0.9999 - val_loss: 0.0012 - val_auc: 0.9999\n",
      "Epoch 15/25\n",
      "633/633 [==============================] - 8s 12ms/step - loss: 0.0014 - auc: 0.9999 - val_loss: 0.0013 - val_auc: 0.9999\n",
      "Epoch 16/25\n",
      "633/633 [==============================] - 8s 12ms/step - loss: 0.0014 - auc: 0.9999 - val_loss: 0.0014 - val_auc: 0.9999\n",
      "Epoch 17/25\n",
      "633/633 [==============================] - 7s 12ms/step - loss: 0.0013 - auc: 0.9999 - val_loss: 0.0014 - val_auc: 0.9999\n",
      "Epoch 18/25\n",
      "633/633 [==============================] - 7s 12ms/step - loss: 0.0013 - auc: 0.9999 - val_loss: 0.0014 - val_auc: 0.9999\n",
      "Epoch 19/25\n",
      "633/633 [==============================] - 8s 12ms/step - loss: 0.0012 - auc: 0.9999 - val_loss: 0.0011 - val_auc: 0.9999\n",
      "Epoch 20/25\n",
      "633/633 [==============================] - 8s 12ms/step - loss: 0.0011 - auc: 0.9999 - val_loss: 0.0015 - val_auc: 0.9999\n",
      "Epoch 21/25\n",
      "633/633 [==============================] - 7s 12ms/step - loss: 0.0011 - auc: 0.9999 - val_loss: 0.0015 - val_auc: 0.9999\n",
      "Epoch 22/25\n",
      "633/633 [==============================] - 7s 12ms/step - loss: 0.0011 - auc: 0.9999 - val_loss: 0.0015 - val_auc: 0.9999\n",
      "Epoch 23/25\n",
      "633/633 [==============================] - 7s 12ms/step - loss: 0.0011 - auc: 0.9999 - val_loss: 0.0014 - val_auc: 0.9999\n",
      "Epoch 24/25\n",
      "633/633 [==============================] - 7s 12ms/step - loss: 0.0010 - auc: 0.9999 - val_loss: 0.0012 - val_auc: 0.9999\n",
      "Epoch 25/25\n",
      "633/633 [==============================] - 7s 12ms/step - loss: 0.0010 - auc: 0.9999 - val_loss: 0.0013 - val_auc: 0.9999\n"
     ]
    }
   ],
   "source": [
    "history = model.fit(X_train, y_train, epochs=25, batch_size=500,validation_split=0.2,callbacks = [early_stop])"
   ]
  },
  {
   "cell_type": "code",
   "execution_count": 143,
   "id": "8e946685",
   "metadata": {},
   "outputs": [
    {
     "name": "stderr",
     "output_type": "stream",
     "text": [
      "WARNING:absl:Found untraced functions such as lstm_cell_15_layer_call_fn, lstm_cell_15_layer_call_and_return_conditional_losses, lstm_cell_16_layer_call_fn, lstm_cell_16_layer_call_and_return_conditional_losses, lstm_cell_15_layer_call_fn while saving (showing 5 of 10). These functions will not be directly callable after loading.\n"
     ]
    },
    {
     "name": "stdout",
     "output_type": "stream",
     "text": [
      "INFO:tensorflow:Assets written to: acn_path_cnn_lstm\\assets\n"
     ]
    },
    {
     "name": "stderr",
     "output_type": "stream",
     "text": [
      "INFO:tensorflow:Assets written to: acn_path_cnn_lstm\\assets\n",
      "WARNING:absl:<keras.layers.recurrent.LSTMCell object at 0x0000020A2110FC40> has the same name 'LSTMCell' as a built-in Keras object. Consider renaming <class 'keras.layers.recurrent.LSTMCell'> to avoid naming conflicts when loading with `tf.keras.models.load_model`. If renaming is not possible, pass the object in the `custom_objects` parameter of the load function.\n",
      "WARNING:absl:<keras.layers.recurrent.LSTMCell object at 0x0000020A21109760> has the same name 'LSTMCell' as a built-in Keras object. Consider renaming <class 'keras.layers.recurrent.LSTMCell'> to avoid naming conflicts when loading with `tf.keras.models.load_model`. If renaming is not possible, pass the object in the `custom_objects` parameter of the load function.\n"
     ]
    }
   ],
   "source": [
    "model.save(\"acn_path_cnn_lstm\")"
   ]
  },
  {
   "cell_type": "code",
   "execution_count": 144,
   "id": "c41b3d66",
   "metadata": {},
   "outputs": [],
   "source": [
    "model = keras.models.load_model(\"acn_path_cnn_lstm\")"
   ]
  },
  {
   "cell_type": "code",
   "execution_count": 145,
   "id": "1e187117",
   "metadata": {},
   "outputs": [
    {
     "name": "stdout",
     "output_type": "stream",
     "text": [
      "3088/3088 [==============================] - 8s 2ms/step - loss: 0.0013 - auc: 0.9999A: 3s - loss: 0.001 - ETA: 2s - loss: 0.0011 - auc: 0.9 - ETA: 2s  - ETA: 0s - loss: 0.0013 -  - ETA: 0s - loss: 0.0013 - auc: 0.999 - ETA: 0s - loss: 0.0013 - auc: 0.9\n",
      "Test results - Loss: 0.001253223279491067 - Accuracy: 99.99091029167175%\n"
     ]
    }
   ],
   "source": [
    "# predicting target attribute on testing dataset\n",
    "test_results = model.evaluate(X_test, y_test, verbose=1)\n",
    "print(f'Test results - Loss: {test_results[0]} - Accuracy: {test_results[1]*100}%')"
   ]
  },
  {
   "cell_type": "code",
   "execution_count": 146,
   "id": "5a480b8f",
   "metadata": {},
   "outputs": [
    {
     "data": {
      "image/png": "[encoded data removed]",
      "text/plain": [
       "<Figure size 432x288 with 1 Axes>"
      ]
     },
     "metadata": {
      "needs_background": "light"
     },
     "output_type": "display_data"
    }
   ],
   "source": [
    "# Plot of accuracy vs epoch for train and test dataset\n",
    "plt.plot(history.history['auc'])\n",
    "plt.plot(history.history['val_auc'])\n",
    "plt.title(\"Plot of accuracy vs epoch for train and test dataset\")\n",
    "plt.ylabel('accuracy')\n",
    "plt.xlabel('epoch')\n",
    "plt.show()"
   ]
  },
  {
   "cell_type": "code",
   "execution_count": 147,
   "id": "cf6506d3",
   "metadata": {
    "scrolled": true
   },
   "outputs": [
    {
     "data": {
      "image/png": "[encoded data removed]",
      "text/plain": [
       "<Figure size 432x288 with 1 Axes>"
      ]
     },
     "metadata": {
      "needs_background": "light"
     },
     "output_type": "display_data"
    }
   ],
   "source": [
    "# Plot of loss vs epoch for train and test dataset\n",
    "plt.plot(history.history['loss'])\n",
    "plt.plot(history.history['val_loss'])\n",
    "plt.title(\"Plot of loss vs epoch for train and test dataset\")\n",
    "plt.ylabel('loss')\n",
    "plt.xlabel('epoch')\n",
    "plt.legend(['train', 'test'], loc='upper right')\n",
    "plt.show()"
   ]
  },
  {
   "cell_type": "code",
   "execution_count": 150,
   "id": "91e3d3ab",
   "metadata": {},
   "outputs": [],
   "source": [
    "import sklearn.metrics"
   ]
  },
  {
   "cell_type": "code",
   "execution_count": 152,
   "id": "9e6f9487",
   "metadata": {},
   "outputs": [],
   "source": [
    "predict_x=model.predict(X_test) \n",
    "classes_x=np.argmax(predict_x,axis=1)"
   ]
  },
  {
   "cell_type": "code",
   "execution_count": 156,
   "id": "634eac91",
   "metadata": {},
   "outputs": [
    {
     "data": {
      "text/plain": [
       "array([0, 0, 0, ..., 4, 0, 4], dtype=int64)"
      ]
     },
     "execution_count": 156,
     "metadata": {},
     "output_type": "execute_result"
    }
   ],
   "source": [
    "classes_x"
   ]
  },
  {
   "cell_type": "code",
   "execution_count": 159,
   "id": "e1a046f5",
   "metadata": {},
   "outputs": [
    {
     "data": {
      "text/plain": [
       "array([0, 0, 0, ..., 4, 0, 4], dtype=int64)"
      ]
     },
     "execution_count": 159,
     "metadata": {},
     "output_type": "execute_result"
    }
   ],
   "source": [
    "rounded_labels=np.argmax(y_test, axis=1)\n",
    "rounded_labels"
   ]
  },
  {
   "cell_type": "code",
   "execution_count": 163,
   "id": "a46e7c51",
   "metadata": {},
   "outputs": [],
   "source": [
    "from sklearn.metrics import plot_confusion_matrix"
   ]
  },
  {
   "cell_type": "code",
   "execution_count": 161,
   "id": "77382949",
   "metadata": {},
   "outputs": [
    {
     "data": {
      "text/plain": [
       "array([[[20448,     2],\n",
       "        [    2, 78353]],\n",
       "\n",
       "       [[97951,     4],\n",
       "        [   14,   836]],\n",
       "\n",
       "       [[98546,    24],\n",
       "        [   23,   212]],\n",
       "\n",
       "       [[98793,     0],\n",
       "        [    8,     4]],\n",
       "\n",
       "       [[79409,    43],\n",
       "        [   26, 19327]]], dtype=int64)"
      ]
     },
     "execution_count": 161,
     "metadata": {},
     "output_type": "execute_result"
    }
   ],
   "source": [
    "r = sklearn.metrics.multilabel_confusion_matrix(rounded_labels,classes_x)\n",
    "r"
   ]
  },
  {
   "cell_type": "code",
   "execution_count": 169,
   "id": "7724b1bb",
   "metadata": {},
   "outputs": [
    {
     "data": {
      "text/plain": [
       "array([[78353,     1,     0,     0,     1],\n",
       "       [    0,   836,     0,     0,    14],\n",
       "       [    0,     0,   212,     0,    23],\n",
       "       [    0,     0,     3,     4,     5],\n",
       "       [    2,     3,    21,     0, 19327]], dtype=int64)"
      ]
     },
     "execution_count": 169,
     "metadata": {},
     "output_type": "execute_result"
    }
   ],
   "source": [
    "from sklearn.metrics import confusion_matrix  \n",
    "cmsvm= confusion_matrix(rounded_labels,classes_x)\n",
    "cmsvm"
   ]
  },
  {
   "cell_type": "code",
   "execution_count": 184,
   "id": "8b2c040b",
   "metadata": {
    "scrolled": true
   },
   "outputs": [
    {
     "data": {
      "image/png": "[encoded data removed]",
      "text/plain": [
       "<Figure size 720x360 with 2 Axes>"
      ]
     },
     "metadata": {
      "needs_background": "light"
     },
     "output_type": "display_data"
    }
   ],
   "source": [
    "import seaborn as sns\n",
    "plt.figure(figsize = (10,5))\n",
    "plt.xlabel = \"Predicted label\"\n",
    "x_axis_labels= ['Dos', 'Probe', 'R2L', 'U2R', 'normal.']\n",
    "y_axis_labels=['Dos', 'Probe', 'R2L', 'U2R', 'normal.']\n",
    "ax=sns.heatmap(cmsvm,annot=True,xticklabels=x_axis_labels, yticklabels=y_axis_labels,fmt='', cmap=\"Greens\");\n",
    "ax.set(ylabel=\"True Label\", xlabel=\"Predicted Label\")\n",
    "ax.set_title( \"CNN-LSTM\" , size = 24 )\n",
    "ax.xaxis.get_label().set_fontsize(15)\n",
    "ax.yaxis.get_label().set_fontsize(15)"
   ]
  },
  {
   "cell_type": "code",
   "execution_count": null,
   "id": "b7dbd40e",
   "metadata": {},
   "outputs": [],
   "source": [
    "      Category  buying_encoded\n",
    "0      normal.               4\n",
    "744        U2R               3\n",
    "7601       Dos               0\n",
    "15699      R2L               2\n",
    "22814    Probe               1"
   ]
  },
  {
   "cell_type": "code",
   "execution_count": 185,
   "id": "67c22670",
   "metadata": {},
   "outputs": [],
   "source": [
    "from sklearn.metrics import roc_curve"
   ]
  }
 ],
 "metadata": {
  "kernelspec": {
   "display_name": "Python 3",
   "language": "python",
   "name": "python3"
  },
  "language_info": {
   "codemirror_mode": {
    "name": "ipython",
    "version": 3
   },
   "file_extension": ".py",
   "mimetype": "text/x-python",
   "name": "python",
   "nbconvert_exporter": "python",
   "pygments_lexer": "ipython3",
   "version": "3.8.8"
  }
 },
 "nbformat": 4,
 "nbformat_minor": 5
}
