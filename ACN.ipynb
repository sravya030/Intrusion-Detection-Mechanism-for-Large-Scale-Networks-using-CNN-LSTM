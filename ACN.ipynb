{
 "cells": [
  {
   "cell_type": "code",
   "execution_count": 49,
   "id": "7c1250cd",
   "metadata": {},
   "outputs": [],
   "source": [
    "import pandas as pd \n",
    "import numpy as np\n",
    "from sklearn import *\n",
    "%matplotlib inline"
   ]
  },
  {
   "cell_type": "code",
   "execution_count": 50,
   "id": "ded95809",
   "metadata": {},
   "outputs": [],
   "source": [
    "from tensorflow.keras.models import Sequential\n",
    "from tensorflow.keras.layers import Dense, Activation,Dropout\n",
    "from tensorflow.keras.callbacks import ModelCheckpoint, EarlyStopping, ReduceLROnPlateau\n",
    "from tensorflow.keras.optimizers import SGD,Adam\n",
    "import keras\n",
    "# Conv1D + LSTM\n",
    "from keras.layers.convolutional import Conv1D,MaxPooling1D\n",
    "from keras.layers import LSTM\n",
    "from keras.layers import Dense,Dropout\n",
    "from keras.layers import Flatten"
   ]
  },
  {
   "cell_type": "code",
   "execution_count": 51,
   "id": "ab5beac6",
   "metadata": {},
   "outputs": [],
   "source": [
    "df=pd.read_csv(\"kddcup.data_10_percent_corrected\",header=None)"
   ]
  },
  {
   "cell_type": "code",
   "execution_count": 52,
   "id": "d8adb2ab",
   "metadata": {},
   "outputs": [
    {
     "data": {
      "text/html": [
       "<div>\n",
       "<style scoped>\n",
       "    .dataframe tbody tr th:only-of-type {\n",
       "        vertical-align: middle;\n",
       "    }\n",
       "\n",
       "    .dataframe tbody tr th {\n",
       "        vertical-align: top;\n",
       "    }\n",
       "\n",
       "    .dataframe thead th {\n",
       "        text-align: right;\n",
       "    }\n",
       "</style>\n",
       "<table border=\"1\" class=\"dataframe\">\n",
       "  <thead>\n",
       "    <tr style=\"text-align: right;\">\n",
       "      <th></th>\n",
       "      <th>0</th>\n",
       "      <th>1</th>\n",
       "      <th>2</th>\n",
       "      <th>3</th>\n",
       "      <th>4</th>\n",
       "      <th>5</th>\n",
       "      <th>6</th>\n",
       "      <th>7</th>\n",
       "      <th>8</th>\n",
       "      <th>9</th>\n",
       "      <th>...</th>\n",
       "      <th>32</th>\n",
       "      <th>33</th>\n",
       "      <th>34</th>\n",
       "      <th>35</th>\n",
       "      <th>36</th>\n",
       "      <th>37</th>\n",
       "      <th>38</th>\n",
       "      <th>39</th>\n",
       "      <th>40</th>\n",
       "      <th>41</th>\n",
       "    </tr>\n",
       "  </thead>\n",
       "  <tbody>\n",
       "    <tr>\n",
       "      <th>0</th>\n",
       "      <td>0</td>\n",
       "      <td>tcp</td>\n",
       "      <td>http</td>\n",
       "      <td>SF</td>\n",
       "      <td>181</td>\n",
       "      <td>5450</td>\n",
       "      <td>0</td>\n",
       "      <td>0</td>\n",
       "      <td>0</td>\n",
       "      <td>0</td>\n",
       "      <td>...</td>\n",
       "      <td>9</td>\n",
       "      <td>1.0</td>\n",
       "      <td>0.0</td>\n",
       "      <td>0.11</td>\n",
       "      <td>0.00</td>\n",
       "      <td>0.00</td>\n",
       "      <td>0.00</td>\n",
       "      <td>0.0</td>\n",
       "      <td>0.0</td>\n",
       "      <td>normal.</td>\n",
       "    </tr>\n",
       "    <tr>\n",
       "      <th>1</th>\n",
       "      <td>0</td>\n",
       "      <td>tcp</td>\n",
       "      <td>http</td>\n",
       "      <td>SF</td>\n",
       "      <td>239</td>\n",
       "      <td>486</td>\n",
       "      <td>0</td>\n",
       "      <td>0</td>\n",
       "      <td>0</td>\n",
       "      <td>0</td>\n",
       "      <td>...</td>\n",
       "      <td>19</td>\n",
       "      <td>1.0</td>\n",
       "      <td>0.0</td>\n",
       "      <td>0.05</td>\n",
       "      <td>0.00</td>\n",
       "      <td>0.00</td>\n",
       "      <td>0.00</td>\n",
       "      <td>0.0</td>\n",
       "      <td>0.0</td>\n",
       "      <td>normal.</td>\n",
       "    </tr>\n",
       "    <tr>\n",
       "      <th>2</th>\n",
       "      <td>0</td>\n",
       "      <td>tcp</td>\n",
       "      <td>http</td>\n",
       "      <td>SF</td>\n",
       "      <td>235</td>\n",
       "      <td>1337</td>\n",
       "      <td>0</td>\n",
       "      <td>0</td>\n",
       "      <td>0</td>\n",
       "      <td>0</td>\n",
       "      <td>...</td>\n",
       "      <td>29</td>\n",
       "      <td>1.0</td>\n",
       "      <td>0.0</td>\n",
       "      <td>0.03</td>\n",
       "      <td>0.00</td>\n",
       "      <td>0.00</td>\n",
       "      <td>0.00</td>\n",
       "      <td>0.0</td>\n",
       "      <td>0.0</td>\n",
       "      <td>normal.</td>\n",
       "    </tr>\n",
       "    <tr>\n",
       "      <th>3</th>\n",
       "      <td>0</td>\n",
       "      <td>tcp</td>\n",
       "      <td>http</td>\n",
       "      <td>SF</td>\n",
       "      <td>219</td>\n",
       "      <td>1337</td>\n",
       "      <td>0</td>\n",
       "      <td>0</td>\n",
       "      <td>0</td>\n",
       "      <td>0</td>\n",
       "      <td>...</td>\n",
       "      <td>39</td>\n",
       "      <td>1.0</td>\n",
       "      <td>0.0</td>\n",
       "      <td>0.03</td>\n",
       "      <td>0.00</td>\n",
       "      <td>0.00</td>\n",
       "      <td>0.00</td>\n",
       "      <td>0.0</td>\n",
       "      <td>0.0</td>\n",
       "      <td>normal.</td>\n",
       "    </tr>\n",
       "    <tr>\n",
       "      <th>4</th>\n",
       "      <td>0</td>\n",
       "      <td>tcp</td>\n",
       "      <td>http</td>\n",
       "      <td>SF</td>\n",
       "      <td>217</td>\n",
       "      <td>2032</td>\n",
       "      <td>0</td>\n",
       "      <td>0</td>\n",
       "      <td>0</td>\n",
       "      <td>0</td>\n",
       "      <td>...</td>\n",
       "      <td>49</td>\n",
       "      <td>1.0</td>\n",
       "      <td>0.0</td>\n",
       "      <td>0.02</td>\n",
       "      <td>0.00</td>\n",
       "      <td>0.00</td>\n",
       "      <td>0.00</td>\n",
       "      <td>0.0</td>\n",
       "      <td>0.0</td>\n",
       "      <td>normal.</td>\n",
       "    </tr>\n",
       "    <tr>\n",
       "      <th>...</th>\n",
       "      <td>...</td>\n",
       "      <td>...</td>\n",
       "      <td>...</td>\n",
       "      <td>...</td>\n",
       "      <td>...</td>\n",
       "      <td>...</td>\n",
       "      <td>...</td>\n",
       "      <td>...</td>\n",
       "      <td>...</td>\n",
       "      <td>...</td>\n",
       "      <td>...</td>\n",
       "      <td>...</td>\n",
       "      <td>...</td>\n",
       "      <td>...</td>\n",
       "      <td>...</td>\n",
       "      <td>...</td>\n",
       "      <td>...</td>\n",
       "      <td>...</td>\n",
       "      <td>...</td>\n",
       "      <td>...</td>\n",
       "      <td>...</td>\n",
       "    </tr>\n",
       "    <tr>\n",
       "      <th>494016</th>\n",
       "      <td>0</td>\n",
       "      <td>tcp</td>\n",
       "      <td>http</td>\n",
       "      <td>SF</td>\n",
       "      <td>310</td>\n",
       "      <td>1881</td>\n",
       "      <td>0</td>\n",
       "      <td>0</td>\n",
       "      <td>0</td>\n",
       "      <td>0</td>\n",
       "      <td>...</td>\n",
       "      <td>255</td>\n",
       "      <td>1.0</td>\n",
       "      <td>0.0</td>\n",
       "      <td>0.01</td>\n",
       "      <td>0.05</td>\n",
       "      <td>0.00</td>\n",
       "      <td>0.01</td>\n",
       "      <td>0.0</td>\n",
       "      <td>0.0</td>\n",
       "      <td>normal.</td>\n",
       "    </tr>\n",
       "    <tr>\n",
       "      <th>494017</th>\n",
       "      <td>0</td>\n",
       "      <td>tcp</td>\n",
       "      <td>http</td>\n",
       "      <td>SF</td>\n",
       "      <td>282</td>\n",
       "      <td>2286</td>\n",
       "      <td>0</td>\n",
       "      <td>0</td>\n",
       "      <td>0</td>\n",
       "      <td>0</td>\n",
       "      <td>...</td>\n",
       "      <td>255</td>\n",
       "      <td>1.0</td>\n",
       "      <td>0.0</td>\n",
       "      <td>0.17</td>\n",
       "      <td>0.05</td>\n",
       "      <td>0.00</td>\n",
       "      <td>0.01</td>\n",
       "      <td>0.0</td>\n",
       "      <td>0.0</td>\n",
       "      <td>normal.</td>\n",
       "    </tr>\n",
       "    <tr>\n",
       "      <th>494018</th>\n",
       "      <td>0</td>\n",
       "      <td>tcp</td>\n",
       "      <td>http</td>\n",
       "      <td>SF</td>\n",
       "      <td>203</td>\n",
       "      <td>1200</td>\n",
       "      <td>0</td>\n",
       "      <td>0</td>\n",
       "      <td>0</td>\n",
       "      <td>0</td>\n",
       "      <td>...</td>\n",
       "      <td>255</td>\n",
       "      <td>1.0</td>\n",
       "      <td>0.0</td>\n",
       "      <td>0.06</td>\n",
       "      <td>0.05</td>\n",
       "      <td>0.06</td>\n",
       "      <td>0.01</td>\n",
       "      <td>0.0</td>\n",
       "      <td>0.0</td>\n",
       "      <td>normal.</td>\n",
       "    </tr>\n",
       "    <tr>\n",
       "      <th>494019</th>\n",
       "      <td>0</td>\n",
       "      <td>tcp</td>\n",
       "      <td>http</td>\n",
       "      <td>SF</td>\n",
       "      <td>291</td>\n",
       "      <td>1200</td>\n",
       "      <td>0</td>\n",
       "      <td>0</td>\n",
       "      <td>0</td>\n",
       "      <td>0</td>\n",
       "      <td>...</td>\n",
       "      <td>255</td>\n",
       "      <td>1.0</td>\n",
       "      <td>0.0</td>\n",
       "      <td>0.04</td>\n",
       "      <td>0.05</td>\n",
       "      <td>0.04</td>\n",
       "      <td>0.01</td>\n",
       "      <td>0.0</td>\n",
       "      <td>0.0</td>\n",
       "      <td>normal.</td>\n",
       "    </tr>\n",
       "    <tr>\n",
       "      <th>494020</th>\n",
       "      <td>0</td>\n",
       "      <td>tcp</td>\n",
       "      <td>http</td>\n",
       "      <td>SF</td>\n",
       "      <td>219</td>\n",
       "      <td>1234</td>\n",
       "      <td>0</td>\n",
       "      <td>0</td>\n",
       "      <td>0</td>\n",
       "      <td>0</td>\n",
       "      <td>...</td>\n",
       "      <td>255</td>\n",
       "      <td>1.0</td>\n",
       "      <td>0.0</td>\n",
       "      <td>0.17</td>\n",
       "      <td>0.05</td>\n",
       "      <td>0.00</td>\n",
       "      <td>0.01</td>\n",
       "      <td>0.0</td>\n",
       "      <td>0.0</td>\n",
       "      <td>normal.</td>\n",
       "    </tr>\n",
       "  </tbody>\n",
       "</table>\n",
       "<p>494021 rows × 42 columns</p>\n",
       "</div>"
      ],
      "text/plain": [
       "        0    1     2   3    4     5   6   7   8   9   ...   32   33   34  \\\n",
       "0        0  tcp  http  SF  181  5450   0   0   0   0  ...    9  1.0  0.0   \n",
       "1        0  tcp  http  SF  239   486   0   0   0   0  ...   19  1.0  0.0   \n",
       "2        0  tcp  http  SF  235  1337   0   0   0   0  ...   29  1.0  0.0   \n",
       "3        0  tcp  http  SF  219  1337   0   0   0   0  ...   39  1.0  0.0   \n",
       "4        0  tcp  http  SF  217  2032   0   0   0   0  ...   49  1.0  0.0   \n",
       "...     ..  ...   ...  ..  ...   ...  ..  ..  ..  ..  ...  ...  ...  ...   \n",
       "494016   0  tcp  http  SF  310  1881   0   0   0   0  ...  255  1.0  0.0   \n",
       "494017   0  tcp  http  SF  282  2286   0   0   0   0  ...  255  1.0  0.0   \n",
       "494018   0  tcp  http  SF  203  1200   0   0   0   0  ...  255  1.0  0.0   \n",
       "494019   0  tcp  http  SF  291  1200   0   0   0   0  ...  255  1.0  0.0   \n",
       "494020   0  tcp  http  SF  219  1234   0   0   0   0  ...  255  1.0  0.0   \n",
       "\n",
       "          35    36    37    38   39   40       41  \n",
       "0       0.11  0.00  0.00  0.00  0.0  0.0  normal.  \n",
       "1       0.05  0.00  0.00  0.00  0.0  0.0  normal.  \n",
       "2       0.03  0.00  0.00  0.00  0.0  0.0  normal.  \n",
       "3       0.03  0.00  0.00  0.00  0.0  0.0  normal.  \n",
       "4       0.02  0.00  0.00  0.00  0.0  0.0  normal.  \n",
       "...      ...   ...   ...   ...  ...  ...      ...  \n",
       "494016  0.01  0.05  0.00  0.01  0.0  0.0  normal.  \n",
       "494017  0.17  0.05  0.00  0.01  0.0  0.0  normal.  \n",
       "494018  0.06  0.05  0.06  0.01  0.0  0.0  normal.  \n",
       "494019  0.04  0.05  0.04  0.01  0.0  0.0  normal.  \n",
       "494020  0.17  0.05  0.00  0.01  0.0  0.0  normal.  \n",
       "\n",
       "[494021 rows x 42 columns]"
      ]
     },
     "execution_count": 52,
     "metadata": {},
     "output_type": "execute_result"
    }
   ],
   "source": [
    "df"
   ]
  },
  {
   "cell_type": "code",
   "execution_count": 53,
   "id": "50c48ace",
   "metadata": {},
   "outputs": [
    {
     "name": "stdout",
     "output_type": "stream",
     "text": [
      "['duration', 'protocol_type', 'service', 'flag', 'src_bytes', 'dst_bytes', 'land', 'wrong_fragment', 'urgent', 'hot', 'num_failed_logins', 'logged_in', 'num_compromised', 'root_shell', 'su_attempted', 'num_root', 'num_file_creations', 'num_shells', 'num_access_files', 'num_outbound_cmds', 'is_host_login', 'is_guest_login', 'count', 'srv_count', 'serror_rate', 'srv_serror_rate', 'rerror_rate', 'srv_rerror_rate', 'same_srv_rate', 'diff_srv_rate', 'srv_diff_host_rate', 'dst_host_count', 'dst_host_srv_count', 'dst_host_same_srv_rate', 'dst_host_diff_srv_rate', 'dst_host_same_src_port_rate', 'dst_host_srv_diff_host_rate', 'dst_host_serror_rate', 'dst_host_srv_serror_rate', 'dst_host_rerror_rate', 'dst_host_srv_rerror_rate', 'Category']\n"
     ]
    }
   ],
   "source": [
    "columns = [f.split(\":\")[0] for f in \"\"\"\n",
    "duration: continuous.\n",
    "protocol_type: symbolic.\n",
    "service: symbolic.\n",
    "flag: symbolic.\n",
    "src_bytes: continuous.\n",
    "dst_bytes: continuous.\n",
    "land: symbolic.\n",
    "wrong_fragment: continuous.\n",
    "urgent: continuous.\n",
    "hot: continuous.\n",
    "num_failed_logins: continuous.\n",
    "logged_in: symbolic.\n",
    "num_compromised: continuous.\n",
    "root_shell: continuous.\n",
    "su_attempted: continuous.\n",
    "num_root: continuous.\n",
    "num_file_creations: continuous.\n",
    "num_shells: continuous.\n",
    "num_access_files: continuous.\n",
    "num_outbound_cmds: continuous.\n",
    "is_host_login: symbolic.\n",
    "is_guest_login: symbolic.\n",
    "count: continuous.\n",
    "srv_count: continuous.\n",
    "serror_rate: continuous.\n",
    "srv_serror_rate: continuous.\n",
    "rerror_rate: continuous.\n",
    "srv_rerror_rate: continuous.\n",
    "same_srv_rate: continuous.\n",
    "diff_srv_rate: continuous.\n",
    "srv_diff_host_rate: continuous.\n",
    "dst_host_count: continuous.\n",
    "dst_host_srv_count: continuous.\n",
    "dst_host_same_srv_rate: continuous.\n",
    "dst_host_diff_srv_rate: continuous.\n",
    "dst_host_same_src_port_rate: continuous.\n",
    "dst_host_srv_diff_host_rate: continuous.\n",
    "dst_host_serror_rate: continuous.\n",
    "dst_host_srv_serror_rate: continuous.\n",
    "dst_host_rerror_rate: continuous.\n",
    "dst_host_srv_rerror_rate: continuous.\n",
    "\"\"\".split(\"\\n\") if len(f)>0]\n",
    "\n",
    "columns.append(\"Category\")\n",
    "print(columns)"
   ]
  },
  {
   "cell_type": "code",
   "execution_count": 54,
   "id": "951b5033",
   "metadata": {},
   "outputs": [],
   "source": [
    "df.columns =['duration', 'protocol_type', 'service', 'flag', 'src_bytes', 'dst_bytes', 'land', 'wrong_fragment', 'urgent', 'hot', 'num_failed_logins', 'logged_in', 'num_compromised', 'root_shell', 'su_attempted', 'num_root', 'num_file_creations', 'num_shells', 'num_access_files', 'num_outbound_cmds', 'is_host_login', 'is_guest_login', 'count', 'srv_count', 'serror_rate', 'srv_serror_rate', 'rerror_rate', 'srv_rerror_rate', 'same_srv_rate', 'diff_srv_rate', 'srv_diff_host_rate', 'dst_host_count', 'dst_host_srv_count', 'dst_host_same_srv_rate', 'dst_host_diff_srv_rate', 'dst_host_same_src_port_rate', 'dst_host_srv_diff_host_rate', 'dst_host_serror_rate', 'dst_host_srv_serror_rate', 'dst_host_rerror_rate', 'dst_host_srv_rerror_rate', 'Category']"
   ]
  },
  {
   "cell_type": "code",
   "execution_count": 55,
   "id": "3f102180",
   "metadata": {},
   "outputs": [
    {
     "data": {
      "text/html": [
       "<div>\n",
       "<style scoped>\n",
       "    .dataframe tbody tr th:only-of-type {\n",
       "        vertical-align: middle;\n",
       "    }\n",
       "\n",
       "    .dataframe tbody tr th {\n",
       "        vertical-align: top;\n",
       "    }\n",
       "\n",
       "    .dataframe thead th {\n",
       "        text-align: right;\n",
       "    }\n",
       "</style>\n",
       "<table border=\"1\" class=\"dataframe\">\n",
       "  <thead>\n",
       "    <tr style=\"text-align: right;\">\n",
       "      <th></th>\n",
       "      <th>duration</th>\n",
       "      <th>protocol_type</th>\n",
       "      <th>service</th>\n",
       "      <th>flag</th>\n",
       "      <th>src_bytes</th>\n",
       "      <th>dst_bytes</th>\n",
       "      <th>land</th>\n",
       "      <th>wrong_fragment</th>\n",
       "      <th>urgent</th>\n",
       "      <th>hot</th>\n",
       "      <th>...</th>\n",
       "      <th>dst_host_srv_count</th>\n",
       "      <th>dst_host_same_srv_rate</th>\n",
       "      <th>dst_host_diff_srv_rate</th>\n",
       "      <th>dst_host_same_src_port_rate</th>\n",
       "      <th>dst_host_srv_diff_host_rate</th>\n",
       "      <th>dst_host_serror_rate</th>\n",
       "      <th>dst_host_srv_serror_rate</th>\n",
       "      <th>dst_host_rerror_rate</th>\n",
       "      <th>dst_host_srv_rerror_rate</th>\n",
       "      <th>Category</th>\n",
       "    </tr>\n",
       "  </thead>\n",
       "  <tbody>\n",
       "    <tr>\n",
       "      <th>0</th>\n",
       "      <td>0</td>\n",
       "      <td>tcp</td>\n",
       "      <td>http</td>\n",
       "      <td>SF</td>\n",
       "      <td>181</td>\n",
       "      <td>5450</td>\n",
       "      <td>0</td>\n",
       "      <td>0</td>\n",
       "      <td>0</td>\n",
       "      <td>0</td>\n",
       "      <td>...</td>\n",
       "      <td>9</td>\n",
       "      <td>1.0</td>\n",
       "      <td>0.0</td>\n",
       "      <td>0.11</td>\n",
       "      <td>0.00</td>\n",
       "      <td>0.00</td>\n",
       "      <td>0.00</td>\n",
       "      <td>0.0</td>\n",
       "      <td>0.0</td>\n",
       "      <td>normal.</td>\n",
       "    </tr>\n",
       "    <tr>\n",
       "      <th>1</th>\n",
       "      <td>0</td>\n",
       "      <td>tcp</td>\n",
       "      <td>http</td>\n",
       "      <td>SF</td>\n",
       "      <td>239</td>\n",
       "      <td>486</td>\n",
       "      <td>0</td>\n",
       "      <td>0</td>\n",
       "      <td>0</td>\n",
       "      <td>0</td>\n",
       "      <td>...</td>\n",
       "      <td>19</td>\n",
       "      <td>1.0</td>\n",
       "      <td>0.0</td>\n",
       "      <td>0.05</td>\n",
       "      <td>0.00</td>\n",
       "      <td>0.00</td>\n",
       "      <td>0.00</td>\n",
       "      <td>0.0</td>\n",
       "      <td>0.0</td>\n",
       "      <td>normal.</td>\n",
       "    </tr>\n",
       "    <tr>\n",
       "      <th>2</th>\n",
       "      <td>0</td>\n",
       "      <td>tcp</td>\n",
       "      <td>http</td>\n",
       "      <td>SF</td>\n",
       "      <td>235</td>\n",
       "      <td>1337</td>\n",
       "      <td>0</td>\n",
       "      <td>0</td>\n",
       "      <td>0</td>\n",
       "      <td>0</td>\n",
       "      <td>...</td>\n",
       "      <td>29</td>\n",
       "      <td>1.0</td>\n",
       "      <td>0.0</td>\n",
       "      <td>0.03</td>\n",
       "      <td>0.00</td>\n",
       "      <td>0.00</td>\n",
       "      <td>0.00</td>\n",
       "      <td>0.0</td>\n",
       "      <td>0.0</td>\n",
       "      <td>normal.</td>\n",
       "    </tr>\n",
       "    <tr>\n",
       "      <th>3</th>\n",
       "      <td>0</td>\n",
       "      <td>tcp</td>\n",
       "      <td>http</td>\n",
       "      <td>SF</td>\n",
       "      <td>219</td>\n",
       "      <td>1337</td>\n",
       "      <td>0</td>\n",
       "      <td>0</td>\n",
       "      <td>0</td>\n",
       "      <td>0</td>\n",
       "      <td>...</td>\n",
       "      <td>39</td>\n",
       "      <td>1.0</td>\n",
       "      <td>0.0</td>\n",
       "      <td>0.03</td>\n",
       "      <td>0.00</td>\n",
       "      <td>0.00</td>\n",
       "      <td>0.00</td>\n",
       "      <td>0.0</td>\n",
       "      <td>0.0</td>\n",
       "      <td>normal.</td>\n",
       "    </tr>\n",
       "    <tr>\n",
       "      <th>4</th>\n",
       "      <td>0</td>\n",
       "      <td>tcp</td>\n",
       "      <td>http</td>\n",
       "      <td>SF</td>\n",
       "      <td>217</td>\n",
       "      <td>2032</td>\n",
       "      <td>0</td>\n",
       "      <td>0</td>\n",
       "      <td>0</td>\n",
       "      <td>0</td>\n",
       "      <td>...</td>\n",
       "      <td>49</td>\n",
       "      <td>1.0</td>\n",
       "      <td>0.0</td>\n",
       "      <td>0.02</td>\n",
       "      <td>0.00</td>\n",
       "      <td>0.00</td>\n",
       "      <td>0.00</td>\n",
       "      <td>0.0</td>\n",
       "      <td>0.0</td>\n",
       "      <td>normal.</td>\n",
       "    </tr>\n",
       "    <tr>\n",
       "      <th>...</th>\n",
       "      <td>...</td>\n",
       "      <td>...</td>\n",
       "      <td>...</td>\n",
       "      <td>...</td>\n",
       "      <td>...</td>\n",
       "      <td>...</td>\n",
       "      <td>...</td>\n",
       "      <td>...</td>\n",
       "      <td>...</td>\n",
       "      <td>...</td>\n",
       "      <td>...</td>\n",
       "      <td>...</td>\n",
       "      <td>...</td>\n",
       "      <td>...</td>\n",
       "      <td>...</td>\n",
       "      <td>...</td>\n",
       "      <td>...</td>\n",
       "      <td>...</td>\n",
       "      <td>...</td>\n",
       "      <td>...</td>\n",
       "      <td>...</td>\n",
       "    </tr>\n",
       "    <tr>\n",
       "      <th>494016</th>\n",
       "      <td>0</td>\n",
       "      <td>tcp</td>\n",
       "      <td>http</td>\n",
       "      <td>SF</td>\n",
       "      <td>310</td>\n",
       "      <td>1881</td>\n",
       "      <td>0</td>\n",
       "      <td>0</td>\n",
       "      <td>0</td>\n",
       "      <td>0</td>\n",
       "      <td>...</td>\n",
       "      <td>255</td>\n",
       "      <td>1.0</td>\n",
       "      <td>0.0</td>\n",
       "      <td>0.01</td>\n",
       "      <td>0.05</td>\n",
       "      <td>0.00</td>\n",
       "      <td>0.01</td>\n",
       "      <td>0.0</td>\n",
       "      <td>0.0</td>\n",
       "      <td>normal.</td>\n",
       "    </tr>\n",
       "    <tr>\n",
       "      <th>494017</th>\n",
       "      <td>0</td>\n",
       "      <td>tcp</td>\n",
       "      <td>http</td>\n",
       "      <td>SF</td>\n",
       "      <td>282</td>\n",
       "      <td>2286</td>\n",
       "      <td>0</td>\n",
       "      <td>0</td>\n",
       "      <td>0</td>\n",
       "      <td>0</td>\n",
       "      <td>...</td>\n",
       "      <td>255</td>\n",
       "      <td>1.0</td>\n",
       "      <td>0.0</td>\n",
       "      <td>0.17</td>\n",
       "      <td>0.05</td>\n",
       "      <td>0.00</td>\n",
       "      <td>0.01</td>\n",
       "      <td>0.0</td>\n",
       "      <td>0.0</td>\n",
       "      <td>normal.</td>\n",
       "    </tr>\n",
       "    <tr>\n",
       "      <th>494018</th>\n",
       "      <td>0</td>\n",
       "      <td>tcp</td>\n",
       "      <td>http</td>\n",
       "      <td>SF</td>\n",
       "      <td>203</td>\n",
       "      <td>1200</td>\n",
       "      <td>0</td>\n",
       "      <td>0</td>\n",
       "      <td>0</td>\n",
       "      <td>0</td>\n",
       "      <td>...</td>\n",
       "      <td>255</td>\n",
       "      <td>1.0</td>\n",
       "      <td>0.0</td>\n",
       "      <td>0.06</td>\n",
       "      <td>0.05</td>\n",
       "      <td>0.06</td>\n",
       "      <td>0.01</td>\n",
       "      <td>0.0</td>\n",
       "      <td>0.0</td>\n",
       "      <td>normal.</td>\n",
       "    </tr>\n",
       "    <tr>\n",
       "      <th>494019</th>\n",
       "      <td>0</td>\n",
       "      <td>tcp</td>\n",
       "      <td>http</td>\n",
       "      <td>SF</td>\n",
       "      <td>291</td>\n",
       "      <td>1200</td>\n",
       "      <td>0</td>\n",
       "      <td>0</td>\n",
       "      <td>0</td>\n",
       "      <td>0</td>\n",
       "      <td>...</td>\n",
       "      <td>255</td>\n",
       "      <td>1.0</td>\n",
       "      <td>0.0</td>\n",
       "      <td>0.04</td>\n",
       "      <td>0.05</td>\n",
       "      <td>0.04</td>\n",
       "      <td>0.01</td>\n",
       "      <td>0.0</td>\n",
       "      <td>0.0</td>\n",
       "      <td>normal.</td>\n",
       "    </tr>\n",
       "    <tr>\n",
       "      <th>494020</th>\n",
       "      <td>0</td>\n",
       "      <td>tcp</td>\n",
       "      <td>http</td>\n",
       "      <td>SF</td>\n",
       "      <td>219</td>\n",
       "      <td>1234</td>\n",
       "      <td>0</td>\n",
       "      <td>0</td>\n",
       "      <td>0</td>\n",
       "      <td>0</td>\n",
       "      <td>...</td>\n",
       "      <td>255</td>\n",
       "      <td>1.0</td>\n",
       "      <td>0.0</td>\n",
       "      <td>0.17</td>\n",
       "      <td>0.05</td>\n",
       "      <td>0.00</td>\n",
       "      <td>0.01</td>\n",
       "      <td>0.0</td>\n",
       "      <td>0.0</td>\n",
       "      <td>normal.</td>\n",
       "    </tr>\n",
       "  </tbody>\n",
       "</table>\n",
       "<p>494021 rows × 42 columns</p>\n",
       "</div>"
      ],
      "text/plain": [
       "        duration protocol_type service flag  src_bytes  dst_bytes  land  \\\n",
       "0              0           tcp    http   SF        181       5450     0   \n",
       "1              0           tcp    http   SF        239        486     0   \n",
       "2              0           tcp    http   SF        235       1337     0   \n",
       "3              0           tcp    http   SF        219       1337     0   \n",
       "4              0           tcp    http   SF        217       2032     0   \n",
       "...          ...           ...     ...  ...        ...        ...   ...   \n",
       "494016         0           tcp    http   SF        310       1881     0   \n",
       "494017         0           tcp    http   SF        282       2286     0   \n",
       "494018         0           tcp    http   SF        203       1200     0   \n",
       "494019         0           tcp    http   SF        291       1200     0   \n",
       "494020         0           tcp    http   SF        219       1234     0   \n",
       "\n",
       "        wrong_fragment  urgent  hot  ...  dst_host_srv_count  \\\n",
       "0                    0       0    0  ...                   9   \n",
       "1                    0       0    0  ...                  19   \n",
       "2                    0       0    0  ...                  29   \n",
       "3                    0       0    0  ...                  39   \n",
       "4                    0       0    0  ...                  49   \n",
       "...                ...     ...  ...  ...                 ...   \n",
       "494016               0       0    0  ...                 255   \n",
       "494017               0       0    0  ...                 255   \n",
       "494018               0       0    0  ...                 255   \n",
       "494019               0       0    0  ...                 255   \n",
       "494020               0       0    0  ...                 255   \n",
       "\n",
       "        dst_host_same_srv_rate  dst_host_diff_srv_rate  \\\n",
       "0                          1.0                     0.0   \n",
       "1                          1.0                     0.0   \n",
       "2                          1.0                     0.0   \n",
       "3                          1.0                     0.0   \n",
       "4                          1.0                     0.0   \n",
       "...                        ...                     ...   \n",
       "494016                     1.0                     0.0   \n",
       "494017                     1.0                     0.0   \n",
       "494018                     1.0                     0.0   \n",
       "494019                     1.0                     0.0   \n",
       "494020                     1.0                     0.0   \n",
       "\n",
       "        dst_host_same_src_port_rate  dst_host_srv_diff_host_rate  \\\n",
       "0                              0.11                         0.00   \n",
       "1                              0.05                         0.00   \n",
       "2                              0.03                         0.00   \n",
       "3                              0.03                         0.00   \n",
       "4                              0.02                         0.00   \n",
       "...                             ...                          ...   \n",
       "494016                         0.01                         0.05   \n",
       "494017                         0.17                         0.05   \n",
       "494018                         0.06                         0.05   \n",
       "494019                         0.04                         0.05   \n",
       "494020                         0.17                         0.05   \n",
       "\n",
       "        dst_host_serror_rate  dst_host_srv_serror_rate  dst_host_rerror_rate  \\\n",
       "0                       0.00                      0.00                   0.0   \n",
       "1                       0.00                      0.00                   0.0   \n",
       "2                       0.00                      0.00                   0.0   \n",
       "3                       0.00                      0.00                   0.0   \n",
       "4                       0.00                      0.00                   0.0   \n",
       "...                      ...                       ...                   ...   \n",
       "494016                  0.00                      0.01                   0.0   \n",
       "494017                  0.00                      0.01                   0.0   \n",
       "494018                  0.06                      0.01                   0.0   \n",
       "494019                  0.04                      0.01                   0.0   \n",
       "494020                  0.00                      0.01                   0.0   \n",
       "\n",
       "        dst_host_srv_rerror_rate  Category  \n",
       "0                            0.0   normal.  \n",
       "1                            0.0   normal.  \n",
       "2                            0.0   normal.  \n",
       "3                            0.0   normal.  \n",
       "4                            0.0   normal.  \n",
       "...                          ...       ...  \n",
       "494016                       0.0   normal.  \n",
       "494017                       0.0   normal.  \n",
       "494018                       0.0   normal.  \n",
       "494019                       0.0   normal.  \n",
       "494020                       0.0   normal.  \n",
       "\n",
       "[494021 rows x 42 columns]"
      ]
     },
     "execution_count": 55,
     "metadata": {},
     "output_type": "execute_result"
    }
   ],
   "source": [
    "df"
   ]
  },
  {
   "cell_type": "code",
   "execution_count": 56,
   "id": "ae05932d",
   "metadata": {},
   "outputs": [
    {
     "data": {
      "text/plain": [
       "(494021, 42)"
      ]
     },
     "execution_count": 56,
     "metadata": {},
     "output_type": "execute_result"
    }
   ],
   "source": [
    "df.shape"
   ]
  },
  {
   "cell_type": "code",
   "execution_count": 57,
   "id": "3b965c22",
   "metadata": {},
   "outputs": [
    {
     "name": "stdout",
     "output_type": "stream",
     "text": [
      "Read 494021 rows.\n",
      "========================================\n",
      "The number of data points are: 494021\n",
      "========================================\n",
      "The number of features are: 42\n",
      "========================================\n",
      "The different type of output labels are: {'warezmaster.', 'teardrop.', 'imap.', 'spy.', 'ipsweep.', 'multihop.', 'phf.', 'back.', 'buffer_overflow.', 'land.', 'guess_passwd.', 'normal.', 'loadmodule.', 'nmap.', 'ftp_write.', 'warezclient.', 'portsweep.', 'rootkit.', 'neptune.', 'perl.', 'smurf.', 'satan.', 'pod.'}\n",
      "=============================================================================================================================\n",
      "The number of different output labels are: 23\n"
     ]
    }
   ],
   "source": [
    "#Analyzing the Dataset\n",
    "print(\"Read {} rows.\".format(len(df)))\n",
    "print('='*40)\n",
    "print('The number of data points are:', df.shape[0])\n",
    "print('='*40)\n",
    "print('The number of features are:', df.shape[1])\n",
    "print('='*40)\n",
    "output = df['Category'].values\n",
    "labels = set(output)\n",
    "print('The different type of output labels are:', labels)\n",
    "print('='*125)\n",
    "print('The number of different output labels are:', len(labels))\n"
   ]
  },
  {
   "cell_type": "code",
   "execution_count": 58,
   "id": "e3d4cffc",
   "metadata": {},
   "outputs": [
    {
     "name": "stdout",
     "output_type": "stream",
     "text": [
      "Null values in dataset are 0\n",
      "========================================\n"
     ]
    }
   ],
   "source": [
    "# Data Cleaning\n",
    "# Checking for NULL values\n",
    "print('Null values in dataset are',len(df[df.isnull().any(1)]))\n",
    "print('='*40)\n",
    "df.dropna(inplace=True,axis=1)"
   ]
  },
  {
   "cell_type": "code",
   "execution_count": 59,
   "id": "3f4a1022",
   "metadata": {},
   "outputs": [],
   "source": [
    "df = df[[col for col in df if df[col].nunique() > 1]]# keep columns where there are more than 1 unique values"
   ]
  },
  {
   "cell_type": "code",
   "execution_count": 60,
   "id": "ba2906d9",
   "metadata": {},
   "outputs": [
    {
     "data": {
      "image/png": "[encoded data removed]",
      "text/plain": [
       "<Figure size 1080x504 with 1 Axes>"
      ]
     },
     "metadata": {
      "needs_background": "light"
     },
     "output_type": "display_data"
    }
   ],
   "source": [
    "## Exploratory data analysis\n",
    "# Exploratory data analysis\n",
    "import matplotlib.pyplot as plt\n",
    "from matplotlib.pyplot import *\n",
    "\n",
    "plt.figure(figsize=(15,7))\n",
    "class_distribution = df['Category'].value_counts()\n",
    "class_distribution.plot(kind='bar')\n",
    "plt.xlabel('Class')\n",
    "plt.ylabel('Data points per Class')\n",
    "plt.title('Distribution of yi in train data')\n",
    "plt.grid()\n",
    "plt.show()"
   ]
  },
  {
   "cell_type": "code",
   "execution_count": 61,
   "id": "0de07776",
   "metadata": {},
   "outputs": [],
   "source": [
    "def change_label(df):\n",
    "    df.Category.replace(['back.','land.','neptune.','pod.','smurf.','teardrop.'],'Dos',inplace=True)\n",
    "    df.Category.replace(['guess_passwd.','imap.','ftp_write.','multihop.','phf.','spy.','warezclient.','warezmaster.'],'R2L',inplace=True)      \n",
    "    df.Category.replace(['ipsweep.','nmap.','portsweep.','satan.'],'Probe',inplace=True)\n",
    "    df.Category.replace(['buffer_overflow.','loadmodule.','perl.','rootkit.'],'U2R',inplace=True)"
   ]
  },
  {
   "cell_type": "code",
   "execution_count": 62,
   "id": "9379628f",
   "metadata": {},
   "outputs": [
    {
     "name": "stderr",
     "output_type": "stream",
     "text": [
      "C:\\Users\\HP\\anaconda3\\lib\\site-packages\\pandas\\core\\series.py:4509: SettingWithCopyWarning: \n",
      "A value is trying to be set on a copy of a slice from a DataFrame\n",
      "\n",
      "See the caveats in the documentation: https://pandas.pydata.org/pandas-docs/stable/user_guide/indexing.html#returning-a-view-versus-a-copy\n",
      "  return super().replace(\n"
     ]
    }
   ],
   "source": [
    "change_label(df)"
   ]
  },
  {
   "cell_type": "code",
   "execution_count": 63,
   "id": "efb0eecf",
   "metadata": {},
   "outputs": [
    {
     "data": {
      "text/plain": [
       "Dos        391458\n",
       "normal.     97278\n",
       "Probe        4107\n",
       "R2L          1126\n",
       "U2R            52\n",
       "Name: Category, dtype: int64"
      ]
     },
     "execution_count": 63,
     "metadata": {},
     "output_type": "execute_result"
    }
   ],
   "source": [
    "df.Category.value_counts()"
   ]
  },
  {
   "cell_type": "code",
   "execution_count": 64,
   "id": "6418f1ee",
   "metadata": {},
   "outputs": [],
   "source": [
    "df_c=df.copy()"
   ]
  },
  {
   "cell_type": "code",
   "execution_count": 65,
   "id": "5f652351",
   "metadata": {},
   "outputs": [],
   "source": [
    "# one -hot coding for object dtypes\n",
    "def encode_text_dummy(df, name):\n",
    "    dummies = pd.get_dummies(df[name])\n",
    "    for x in dummies.columns:\n",
    "        dummy_name = f\"{name}-{x}\"\n",
    "        df[dummy_name] = dummies[x]\n",
    "    df.drop(name, axis=1, inplace=True)"
   ]
  },
  {
   "cell_type": "code",
   "execution_count": 66,
   "id": "136acb59",
   "metadata": {},
   "outputs": [],
   "source": [
    "encode_text_dummy(df_c, 'protocol_type')"
   ]
  },
  {
   "cell_type": "code",
   "execution_count": 67,
   "id": "cc1107b2",
   "metadata": {},
   "outputs": [],
   "source": [
    "encode_text_dummy(df_c, 'service')\n",
    "encode_text_dummy(df_c, 'flag')"
   ]
  },
  {
   "cell_type": "code",
   "execution_count": 68,
   "id": "56ec372f",
   "metadata": {},
   "outputs": [
    {
     "data": {
      "text/plain": [
       "duration          int64\n",
       "src_bytes         int64\n",
       "dst_bytes         int64\n",
       "land              int64\n",
       "wrong_fragment    int64\n",
       "                  ...  \n",
       "flag-S1           uint8\n",
       "flag-S2           uint8\n",
       "flag-S3           uint8\n",
       "flag-SF           uint8\n",
       "flag-SH           uint8\n",
       "Length: 117, dtype: object"
      ]
     },
     "execution_count": 68,
     "metadata": {},
     "output_type": "execute_result"
    }
   ],
   "source": [
    "df_c.dtypes\n"
   ]
  },
  {
   "cell_type": "code",
   "execution_count": 69,
   "id": "36f7e8f9",
   "metadata": {},
   "outputs": [],
   "source": [
    "# normalization\n",
    "def min_max_scaling(df,name):\n",
    "    df[name] = (df[name] - df[name].min()) / (df[name].max() - df[name].min())"
   ]
  },
  {
   "cell_type": "code",
   "execution_count": 70,
   "id": "eee826b0",
   "metadata": {},
   "outputs": [],
   "source": [
    "min_max_scaling(df_c, 'duration')"
   ]
  },
  {
   "cell_type": "code",
   "execution_count": 71,
   "id": "a229b60e",
   "metadata": {},
   "outputs": [],
   "source": [
    "X = df_c.select_dtypes(include=[np.float64, np.int64])"
   ]
  },
  {
   "cell_type": "code",
   "execution_count": 72,
   "id": "ddf689f7",
   "metadata": {},
   "outputs": [
    {
     "data": {
      "text/plain": [
       "Index(['duration', 'src_bytes', 'dst_bytes', 'land', 'wrong_fragment',\n",
       "       'urgent', 'hot', 'num_failed_logins', 'logged_in', 'num_compromised',\n",
       "       'root_shell', 'su_attempted', 'num_root', 'num_file_creations',\n",
       "       'num_shells', 'num_access_files', 'is_guest_login', 'count',\n",
       "       'srv_count', 'serror_rate', 'srv_serror_rate', 'rerror_rate',\n",
       "       'srv_rerror_rate', 'same_srv_rate', 'diff_srv_rate',\n",
       "       'srv_diff_host_rate', 'dst_host_count', 'dst_host_srv_count',\n",
       "       'dst_host_same_srv_rate', 'dst_host_diff_srv_rate',\n",
       "       'dst_host_same_src_port_rate', 'dst_host_srv_diff_host_rate',\n",
       "       'dst_host_serror_rate', 'dst_host_srv_serror_rate',\n",
       "       'dst_host_rerror_rate', 'dst_host_srv_rerror_rate'],\n",
       "      dtype='object')"
      ]
     },
     "execution_count": 72,
     "metadata": {},
     "output_type": "execute_result"
    }
   ],
   "source": [
    "X.columns"
   ]
  },
  {
   "cell_type": "code",
   "execution_count": 73,
   "id": "78f0510d",
   "metadata": {},
   "outputs": [],
   "source": [
    "min_max_scaling(df_c, 'src_bytes')\n",
    "min_max_scaling(df_c, 'dst_bytes')\n",
    "min_max_scaling(df_c, 'land')\n",
    "min_max_scaling(df_c, 'wrong_fragment')\n",
    "min_max_scaling(df_c, 'urgent')\n",
    "min_max_scaling(df_c, 'hot')\n",
    "min_max_scaling(df_c, 'num_failed_logins')\n",
    "min_max_scaling(df_c, 'logged_in')\n",
    "min_max_scaling(df_c, 'num_compromised')\n",
    "min_max_scaling(df_c, 'root_shell')\n",
    "min_max_scaling(df_c, 'su_attempted')\n",
    "min_max_scaling(df_c, 'num_root')\n",
    "min_max_scaling(df_c, 'num_file_creations')\n",
    "min_max_scaling(df_c, 'num_shells')\n",
    "min_max_scaling(df_c, 'num_access_files')\n",
    "#min_max_scaling(df_c, 'is_host_login')\n",
    "min_max_scaling(df_c, 'is_guest_login')\n",
    "min_max_scaling(df_c, 'count')"
   ]
  },
  {
   "cell_type": "code",
   "execution_count": 74,
   "id": "cffe0734",
   "metadata": {},
   "outputs": [],
   "source": [
    "min_max_scaling(df_c, 'srv_count')\n",
    "min_max_scaling(df_c, 'serror_rate')\n",
    "min_max_scaling(df_c, 'srv_serror_rate')\n",
    "min_max_scaling(df_c, 'rerror_rate')\n",
    "min_max_scaling(df_c, 'srv_rerror_rate')\n",
    "min_max_scaling(df_c, 'same_srv_rate')\n",
    "min_max_scaling(df_c, 'diff_srv_rate')\n",
    "min_max_scaling(df_c, 'srv_diff_host_rate')\n",
    "min_max_scaling(df_c, 'dst_host_count')\n",
    "min_max_scaling(df_c, 'diff_srv_rate')     \n",
    "min_max_scaling(df_c, 'srv_diff_host_rate')\n",
    "min_max_scaling(df_c, 'dst_host_count')\n",
    "min_max_scaling(df_c, 'dst_host_srv_count')\n",
    "min_max_scaling(df_c, 'dst_host_same_srv_rate')\n",
    "min_max_scaling(df_c, 'dst_host_diff_srv_rate')\n",
    "min_max_scaling(df_c, 'dst_host_same_src_port_rate')\n",
    "min_max_scaling(df_c, 'dst_host_srv_diff_host_rate')\n",
    "min_max_scaling(df_c, 'dst_host_serror_rate')\n",
    "min_max_scaling(df_c, 'dst_host_srv_serror_rate')\n",
    "min_max_scaling(df_c, 'dst_host_rerror_rate')\n",
    "min_max_scaling(df_c, 'dst_host_srv_rerror_rate')"
   ]
  },
  {
   "cell_type": "code",
   "execution_count": 75,
   "id": "1606c8c3",
   "metadata": {},
   "outputs": [],
   "source": [
    "df_c.dropna(inplace=True,axis=1)"
   ]
  },
  {
   "cell_type": "code",
   "execution_count": 76,
   "id": "472c4387",
   "metadata": {},
   "outputs": [],
   "source": [
    "# Convert to numpy - Classification\n",
    "x_columns = df_c.columns.drop('Category')\n",
    "x = df_c[x_columns].values\n",
    "dummies = pd.get_dummies(df_c['Category']) # Classification\n",
    "outcomes = dummies.columns\n",
    "num_classes = len(outcomes)\n",
    "y = dummies.values"
   ]
  },
  {
   "cell_type": "code",
   "execution_count": 77,
   "id": "5c440ddd",
   "metadata": {},
   "outputs": [],
   "source": [
    "from sklearn.preprocessing import LabelEncoder"
   ]
  },
  {
   "cell_type": "code",
   "execution_count": 78,
   "id": "d6cb1181",
   "metadata": {},
   "outputs": [],
   "source": [
    "multi_label = pd.DataFrame(df_c.Category)"
   ]
  },
  {
   "cell_type": "code",
   "execution_count": 79,
   "id": "ace99a8a",
   "metadata": {},
   "outputs": [
    {
     "data": {
      "text/html": [
       "<div>\n",
       "<style scoped>\n",
       "    .dataframe tbody tr th:only-of-type {\n",
       "        vertical-align: middle;\n",
       "    }\n",
       "\n",
       "    .dataframe tbody tr th {\n",
       "        vertical-align: top;\n",
       "    }\n",
       "\n",
       "    .dataframe thead th {\n",
       "        text-align: right;\n",
       "    }\n",
       "</style>\n",
       "<table border=\"1\" class=\"dataframe\">\n",
       "  <thead>\n",
       "    <tr style=\"text-align: right;\">\n",
       "      <th></th>\n",
       "      <th>duration</th>\n",
       "      <th>src_bytes</th>\n",
       "      <th>dst_bytes</th>\n",
       "      <th>land</th>\n",
       "      <th>wrong_fragment</th>\n",
       "      <th>urgent</th>\n",
       "      <th>hot</th>\n",
       "      <th>num_failed_logins</th>\n",
       "      <th>logged_in</th>\n",
       "      <th>num_compromised</th>\n",
       "      <th>...</th>\n",
       "      <th>flag-REJ</th>\n",
       "      <th>flag-RSTO</th>\n",
       "      <th>flag-RSTOS0</th>\n",
       "      <th>flag-RSTR</th>\n",
       "      <th>flag-S0</th>\n",
       "      <th>flag-S1</th>\n",
       "      <th>flag-S2</th>\n",
       "      <th>flag-S3</th>\n",
       "      <th>flag-SF</th>\n",
       "      <th>flag-SH</th>\n",
       "    </tr>\n",
       "  </thead>\n",
       "  <tbody>\n",
       "    <tr>\n",
       "      <th>0</th>\n",
       "      <td>0.0</td>\n",
       "      <td>2.610418e-07</td>\n",
       "      <td>0.001057</td>\n",
       "      <td>0.0</td>\n",
       "      <td>0.0</td>\n",
       "      <td>0.0</td>\n",
       "      <td>0.0</td>\n",
       "      <td>0.0</td>\n",
       "      <td>1.0</td>\n",
       "      <td>0.0</td>\n",
       "      <td>...</td>\n",
       "      <td>0</td>\n",
       "      <td>0</td>\n",
       "      <td>0</td>\n",
       "      <td>0</td>\n",
       "      <td>0</td>\n",
       "      <td>0</td>\n",
       "      <td>0</td>\n",
       "      <td>0</td>\n",
       "      <td>1</td>\n",
       "      <td>0</td>\n",
       "    </tr>\n",
       "    <tr>\n",
       "      <th>1</th>\n",
       "      <td>0.0</td>\n",
       "      <td>3.446905e-07</td>\n",
       "      <td>0.000094</td>\n",
       "      <td>0.0</td>\n",
       "      <td>0.0</td>\n",
       "      <td>0.0</td>\n",
       "      <td>0.0</td>\n",
       "      <td>0.0</td>\n",
       "      <td>1.0</td>\n",
       "      <td>0.0</td>\n",
       "      <td>...</td>\n",
       "      <td>0</td>\n",
       "      <td>0</td>\n",
       "      <td>0</td>\n",
       "      <td>0</td>\n",
       "      <td>0</td>\n",
       "      <td>0</td>\n",
       "      <td>0</td>\n",
       "      <td>0</td>\n",
       "      <td>1</td>\n",
       "      <td>0</td>\n",
       "    </tr>\n",
       "    <tr>\n",
       "      <th>2</th>\n",
       "      <td>0.0</td>\n",
       "      <td>3.389216e-07</td>\n",
       "      <td>0.000259</td>\n",
       "      <td>0.0</td>\n",
       "      <td>0.0</td>\n",
       "      <td>0.0</td>\n",
       "      <td>0.0</td>\n",
       "      <td>0.0</td>\n",
       "      <td>1.0</td>\n",
       "      <td>0.0</td>\n",
       "      <td>...</td>\n",
       "      <td>0</td>\n",
       "      <td>0</td>\n",
       "      <td>0</td>\n",
       "      <td>0</td>\n",
       "      <td>0</td>\n",
       "      <td>0</td>\n",
       "      <td>0</td>\n",
       "      <td>0</td>\n",
       "      <td>1</td>\n",
       "      <td>0</td>\n",
       "    </tr>\n",
       "    <tr>\n",
       "      <th>3</th>\n",
       "      <td>0.0</td>\n",
       "      <td>3.158461e-07</td>\n",
       "      <td>0.000259</td>\n",
       "      <td>0.0</td>\n",
       "      <td>0.0</td>\n",
       "      <td>0.0</td>\n",
       "      <td>0.0</td>\n",
       "      <td>0.0</td>\n",
       "      <td>1.0</td>\n",
       "      <td>0.0</td>\n",
       "      <td>...</td>\n",
       "      <td>0</td>\n",
       "      <td>0</td>\n",
       "      <td>0</td>\n",
       "      <td>0</td>\n",
       "      <td>0</td>\n",
       "      <td>0</td>\n",
       "      <td>0</td>\n",
       "      <td>0</td>\n",
       "      <td>1</td>\n",
       "      <td>0</td>\n",
       "    </tr>\n",
       "    <tr>\n",
       "      <th>4</th>\n",
       "      <td>0.0</td>\n",
       "      <td>3.129617e-07</td>\n",
       "      <td>0.000394</td>\n",
       "      <td>0.0</td>\n",
       "      <td>0.0</td>\n",
       "      <td>0.0</td>\n",
       "      <td>0.0</td>\n",
       "      <td>0.0</td>\n",
       "      <td>1.0</td>\n",
       "      <td>0.0</td>\n",
       "      <td>...</td>\n",
       "      <td>0</td>\n",
       "      <td>0</td>\n",
       "      <td>0</td>\n",
       "      <td>0</td>\n",
       "      <td>0</td>\n",
       "      <td>0</td>\n",
       "      <td>0</td>\n",
       "      <td>0</td>\n",
       "      <td>1</td>\n",
       "      <td>0</td>\n",
       "    </tr>\n",
       "    <tr>\n",
       "      <th>...</th>\n",
       "      <td>...</td>\n",
       "      <td>...</td>\n",
       "      <td>...</td>\n",
       "      <td>...</td>\n",
       "      <td>...</td>\n",
       "      <td>...</td>\n",
       "      <td>...</td>\n",
       "      <td>...</td>\n",
       "      <td>...</td>\n",
       "      <td>...</td>\n",
       "      <td>...</td>\n",
       "      <td>...</td>\n",
       "      <td>...</td>\n",
       "      <td>...</td>\n",
       "      <td>...</td>\n",
       "      <td>...</td>\n",
       "      <td>...</td>\n",
       "      <td>...</td>\n",
       "      <td>...</td>\n",
       "      <td>...</td>\n",
       "      <td>...</td>\n",
       "    </tr>\n",
       "    <tr>\n",
       "      <th>494016</th>\n",
       "      <td>0.0</td>\n",
       "      <td>4.470881e-07</td>\n",
       "      <td>0.000365</td>\n",
       "      <td>0.0</td>\n",
       "      <td>0.0</td>\n",
       "      <td>0.0</td>\n",
       "      <td>0.0</td>\n",
       "      <td>0.0</td>\n",
       "      <td>1.0</td>\n",
       "      <td>0.0</td>\n",
       "      <td>...</td>\n",
       "      <td>0</td>\n",
       "      <td>0</td>\n",
       "      <td>0</td>\n",
       "      <td>0</td>\n",
       "      <td>0</td>\n",
       "      <td>0</td>\n",
       "      <td>0</td>\n",
       "      <td>0</td>\n",
       "      <td>1</td>\n",
       "      <td>0</td>\n",
       "    </tr>\n",
       "    <tr>\n",
       "      <th>494017</th>\n",
       "      <td>0.0</td>\n",
       "      <td>4.067060e-07</td>\n",
       "      <td>0.000443</td>\n",
       "      <td>0.0</td>\n",
       "      <td>0.0</td>\n",
       "      <td>0.0</td>\n",
       "      <td>0.0</td>\n",
       "      <td>0.0</td>\n",
       "      <td>1.0</td>\n",
       "      <td>0.0</td>\n",
       "      <td>...</td>\n",
       "      <td>0</td>\n",
       "      <td>0</td>\n",
       "      <td>0</td>\n",
       "      <td>0</td>\n",
       "      <td>0</td>\n",
       "      <td>0</td>\n",
       "      <td>0</td>\n",
       "      <td>0</td>\n",
       "      <td>1</td>\n",
       "      <td>0</td>\n",
       "    </tr>\n",
       "    <tr>\n",
       "      <th>494018</th>\n",
       "      <td>0.0</td>\n",
       "      <td>2.927706e-07</td>\n",
       "      <td>0.000233</td>\n",
       "      <td>0.0</td>\n",
       "      <td>0.0</td>\n",
       "      <td>0.0</td>\n",
       "      <td>0.0</td>\n",
       "      <td>0.0</td>\n",
       "      <td>1.0</td>\n",
       "      <td>0.0</td>\n",
       "      <td>...</td>\n",
       "      <td>0</td>\n",
       "      <td>0</td>\n",
       "      <td>0</td>\n",
       "      <td>0</td>\n",
       "      <td>0</td>\n",
       "      <td>0</td>\n",
       "      <td>0</td>\n",
       "      <td>0</td>\n",
       "      <td>1</td>\n",
       "      <td>0</td>\n",
       "    </tr>\n",
       "    <tr>\n",
       "      <th>494019</th>\n",
       "      <td>0.0</td>\n",
       "      <td>4.196859e-07</td>\n",
       "      <td>0.000233</td>\n",
       "      <td>0.0</td>\n",
       "      <td>0.0</td>\n",
       "      <td>0.0</td>\n",
       "      <td>0.0</td>\n",
       "      <td>0.0</td>\n",
       "      <td>1.0</td>\n",
       "      <td>0.0</td>\n",
       "      <td>...</td>\n",
       "      <td>0</td>\n",
       "      <td>0</td>\n",
       "      <td>0</td>\n",
       "      <td>0</td>\n",
       "      <td>0</td>\n",
       "      <td>0</td>\n",
       "      <td>0</td>\n",
       "      <td>0</td>\n",
       "      <td>1</td>\n",
       "      <td>0</td>\n",
       "    </tr>\n",
       "    <tr>\n",
       "      <th>494020</th>\n",
       "      <td>0.0</td>\n",
       "      <td>3.158461e-07</td>\n",
       "      <td>0.000239</td>\n",
       "      <td>0.0</td>\n",
       "      <td>0.0</td>\n",
       "      <td>0.0</td>\n",
       "      <td>0.0</td>\n",
       "      <td>0.0</td>\n",
       "      <td>1.0</td>\n",
       "      <td>0.0</td>\n",
       "      <td>...</td>\n",
       "      <td>0</td>\n",
       "      <td>0</td>\n",
       "      <td>0</td>\n",
       "      <td>0</td>\n",
       "      <td>0</td>\n",
       "      <td>0</td>\n",
       "      <td>0</td>\n",
       "      <td>0</td>\n",
       "      <td>1</td>\n",
       "      <td>0</td>\n",
       "    </tr>\n",
       "  </tbody>\n",
       "</table>\n",
       "<p>494021 rows × 117 columns</p>\n",
       "</div>"
      ],
      "text/plain": [
       "        duration     src_bytes  dst_bytes  land  wrong_fragment  urgent  hot  \\\n",
       "0            0.0  2.610418e-07   0.001057   0.0             0.0     0.0  0.0   \n",
       "1            0.0  3.446905e-07   0.000094   0.0             0.0     0.0  0.0   \n",
       "2            0.0  3.389216e-07   0.000259   0.0             0.0     0.0  0.0   \n",
       "3            0.0  3.158461e-07   0.000259   0.0             0.0     0.0  0.0   \n",
       "4            0.0  3.129617e-07   0.000394   0.0             0.0     0.0  0.0   \n",
       "...          ...           ...        ...   ...             ...     ...  ...   \n",
       "494016       0.0  4.470881e-07   0.000365   0.0             0.0     0.0  0.0   \n",
       "494017       0.0  4.067060e-07   0.000443   0.0             0.0     0.0  0.0   \n",
       "494018       0.0  2.927706e-07   0.000233   0.0             0.0     0.0  0.0   \n",
       "494019       0.0  4.196859e-07   0.000233   0.0             0.0     0.0  0.0   \n",
       "494020       0.0  3.158461e-07   0.000239   0.0             0.0     0.0  0.0   \n",
       "\n",
       "        num_failed_logins  logged_in  num_compromised  ...  flag-REJ  \\\n",
       "0                     0.0        1.0              0.0  ...         0   \n",
       "1                     0.0        1.0              0.0  ...         0   \n",
       "2                     0.0        1.0              0.0  ...         0   \n",
       "3                     0.0        1.0              0.0  ...         0   \n",
       "4                     0.0        1.0              0.0  ...         0   \n",
       "...                   ...        ...              ...  ...       ...   \n",
       "494016                0.0        1.0              0.0  ...         0   \n",
       "494017                0.0        1.0              0.0  ...         0   \n",
       "494018                0.0        1.0              0.0  ...         0   \n",
       "494019                0.0        1.0              0.0  ...         0   \n",
       "494020                0.0        1.0              0.0  ...         0   \n",
       "\n",
       "        flag-RSTO  flag-RSTOS0  flag-RSTR  flag-S0  flag-S1  flag-S2  flag-S3  \\\n",
       "0               0            0          0        0        0        0        0   \n",
       "1               0            0          0        0        0        0        0   \n",
       "2               0            0          0        0        0        0        0   \n",
       "3               0            0          0        0        0        0        0   \n",
       "4               0            0          0        0        0        0        0   \n",
       "...           ...          ...        ...      ...      ...      ...      ...   \n",
       "494016          0            0          0        0        0        0        0   \n",
       "494017          0            0          0        0        0        0        0   \n",
       "494018          0            0          0        0        0        0        0   \n",
       "494019          0            0          0        0        0        0        0   \n",
       "494020          0            0          0        0        0        0        0   \n",
       "\n",
       "        flag-SF  flag-SH  \n",
       "0             1        0  \n",
       "1             1        0  \n",
       "2             1        0  \n",
       "3             1        0  \n",
       "4             1        0  \n",
       "...         ...      ...  \n",
       "494016        1        0  \n",
       "494017        1        0  \n",
       "494018        1        0  \n",
       "494019        1        0  \n",
       "494020        1        0  \n",
       "\n",
       "[494021 rows x 117 columns]"
      ]
     },
     "execution_count": 79,
     "metadata": {},
     "output_type": "execute_result"
    }
   ],
   "source": [
    "le2 = preprocessing.LabelEncoder()\n",
    "enc_label = multi_label.apply(le2.fit_transform)\n",
    "df_c['Category'] = enc_label\n",
    "#y_mul = multi_data['intrusion']\n",
    "df_c"
   ]
  },
  {
   "cell_type": "code",
   "execution_count": 80,
   "id": "a85065c1",
   "metadata": {},
   "outputs": [
    {
     "data": {
      "text/plain": [
       "0         4\n",
       "1         4\n",
       "2         4\n",
       "3         4\n",
       "4         4\n",
       "         ..\n",
       "494016    4\n",
       "494017    4\n",
       "494018    4\n",
       "494019    4\n",
       "494020    4\n",
       "Name: Category, Length: 494021, dtype: int32"
      ]
     },
     "execution_count": 80,
     "metadata": {},
     "output_type": "execute_result"
    }
   ],
   "source": [
    "df_c['Category']"
   ]
  },
  {
   "cell_type": "code",
   "execution_count": 81,
   "id": "a6404043",
   "metadata": {},
   "outputs": [],
   "source": [
    "x_columns = df_c.columns.drop('Category')\n",
    "x = df_c[x_columns].values\n",
    "y=df_c['Category'].values"
   ]
  },
  {
   "cell_type": "code",
   "execution_count": 82,
   "id": "97476e03",
   "metadata": {},
   "outputs": [
    {
     "data": {
      "text/plain": [
       "array([[0.00000000e+00, 2.61041764e-07, 1.05713002e-03, ...,\n",
       "        0.00000000e+00, 1.00000000e+00, 0.00000000e+00],\n",
       "       [0.00000000e+00, 3.44690506e-07, 9.42688423e-05, ...,\n",
       "        0.00000000e+00, 1.00000000e+00, 0.00000000e+00],\n",
       "       [0.00000000e+00, 3.38921627e-07, 2.59336301e-04, ...,\n",
       "        0.00000000e+00, 1.00000000e+00, 0.00000000e+00],\n",
       "       ...,\n",
       "       [0.00000000e+00, 2.92770597e-07, 2.32762574e-04, ...,\n",
       "        0.00000000e+00, 1.00000000e+00, 0.00000000e+00],\n",
       "       [0.00000000e+00, 4.19685930e-07, 2.32762574e-04, ...,\n",
       "        0.00000000e+00, 1.00000000e+00, 0.00000000e+00],\n",
       "       [0.00000000e+00, 3.15846112e-07, 2.39357513e-04, ...,\n",
       "        0.00000000e+00, 1.00000000e+00, 0.00000000e+00]])"
      ]
     },
     "execution_count": 82,
     "metadata": {},
     "output_type": "execute_result"
    }
   ],
   "source": [
    "x"
   ]
  },
  {
   "cell_type": "code",
   "execution_count": 83,
   "id": "d89e2c4d",
   "metadata": {},
   "outputs": [
    {
     "data": {
      "text/plain": [
       "array([4, 4, 4, ..., 4, 4, 4])"
      ]
     },
     "execution_count": 83,
     "metadata": {},
     "output_type": "execute_result"
    }
   ],
   "source": [
    "y"
   ]
  },
  {
   "cell_type": "code",
   "execution_count": 84,
   "id": "29b33eff",
   "metadata": {},
   "outputs": [
    {
     "name": "stdout",
     "output_type": "stream",
     "text": [
      "X_train has shape: (494021, 116) \n",
      "y_train has shape: (494021, 1)\n"
     ]
    }
   ],
   "source": [
    "y_train_multi= df_c[['Category']]\n",
    "X_train_multi= df_c.drop(labels=['Category'], axis=1)\n",
    "\n",
    "print('X_train has shape:',X_train_multi.shape,'\\ny_train has shape:',y_train_multi.shape)"
   ]
  },
  {
   "cell_type": "code",
   "execution_count": 85,
   "id": "a85e506d",
   "metadata": {},
   "outputs": [
    {
     "data": {
      "text/plain": [
       "array([[0, 0, 0, 0, 1],\n",
       "       [0, 0, 0, 0, 1],\n",
       "       [0, 0, 0, 0, 1],\n",
       "       ...,\n",
       "       [0, 0, 0, 0, 1],\n",
       "       [0, 0, 0, 0, 1],\n",
       "       [0, 0, 0, 0, 1]])"
      ]
     },
     "execution_count": 85,
     "metadata": {},
     "output_type": "execute_result"
    }
   ],
   "source": [
    "from sklearn.preprocessing import LabelBinarizer\n",
    "\n",
    "y_train_multi = LabelBinarizer().fit_transform(y_train_multi)\n",
    "y_train_multi"
   ]
  },
  {
   "cell_type": "code",
   "execution_count": 86,
   "id": "4736aadd",
   "metadata": {},
   "outputs": [],
   "source": [
    "X_train_multi=np.array(X_train_multi)\n",
    "y_train_multi=np.array(y_train_multi)"
   ]
  },
  {
   "cell_type": "code",
   "execution_count": 87,
   "id": "a6c9d4e2",
   "metadata": {},
   "outputs": [],
   "source": [
    "from sklearn.model_selection import train_test_split "
   ]
  },
  {
   "cell_type": "code",
   "execution_count": 88,
   "id": "7d1d1503",
   "metadata": {},
   "outputs": [],
   "source": [
    "# splitting the dataset 80% for training and 20% testing\n",
    "X_train, X_test, y_train, y_test = train_test_split(X_train_multi,y_train_multi, test_size=0.20, random_state=42)\n"
   ]
  },
  {
   "cell_type": "code",
   "execution_count": 89,
   "id": "11e7f74c",
   "metadata": {},
   "outputs": [
    {
     "data": {
      "text/plain": [
       "(395216, 116, 1)"
      ]
     },
     "execution_count": 89,
     "metadata": {},
     "output_type": "execute_result"
    }
   ],
   "source": [
    "X_train = np.reshape(X_train, (X_train.shape[0], X_train.shape[1], 1))\n",
    "X_train.shape"
   ]
  },
  {
   "cell_type": "code",
   "execution_count": 90,
   "id": "c16b7f92",
   "metadata": {},
   "outputs": [
    {
     "data": {
      "text/plain": [
       "(98805, 116, 1)"
      ]
     },
     "execution_count": 90,
     "metadata": {},
     "output_type": "execute_result"
    }
   ],
   "source": [
    "X_test = np.reshape(X_test, (X_test.shape[0], X_test.shape[1], 1))\n",
    "X_test.shape"
   ]
  },
  {
   "cell_type": "code",
   "execution_count": 91,
   "id": "ae5fef6d",
   "metadata": {},
   "outputs": [],
   "source": [
    "def model():\n",
    "    model = Sequential()\n",
    "    model.add(Conv1D(16,2,activation='relu',padding='same',input_shape = (X_test.shape[1], 1)))\n",
    "    model.add(Conv1D(16,2,activation='relu',padding='same'))\n",
    "    model.add(MaxPooling1D(1))\n",
    "    \n",
    "    model.add(Conv1D(32,2,activation='relu',padding='same'))\n",
    "    model.add(Conv1D(32,2,activation='relu',padding='same'))\n",
    "    model.add(MaxPooling1D(1))\n",
    "    model.add(Flatten())\n",
    "    model.add(Dense(32, activation='relu'))\n",
    "    model.add(Dropout(rate=0.2))\n",
    "    model.add(Dense(5,activation='sigmoid'))\n",
    "    optimizer = Adam(learning_rate=learning_rate)\n",
    "    #model.compile(loss='binary_crossentropy', optimizer=optimizer,metrics=['accuracy'])\n",
    "    model.compile(loss='binary_crossentropy', optimizer=optimizer,metrics=[keras.metrics.AUC(name='auc')])\n",
    "    return model"
   ]
  },
  {
   "cell_type": "code",
   "execution_count": 92,
   "id": "dbcc9544",
   "metadata": {},
   "outputs": [],
   "source": [
    "learning_rate=0.001\n",
    "#batch_size=40\n",
    "epochs = 25"
   ]
  },
  {
   "cell_type": "code",
   "execution_count": 93,
   "id": "8ece346b",
   "metadata": {},
   "outputs": [],
   "source": [
    "model = model()"
   ]
  },
  {
   "cell_type": "code",
   "execution_count": 94,
   "id": "7e88920a",
   "metadata": {},
   "outputs": [
    {
     "name": "stdout",
     "output_type": "stream",
     "text": [
      "Model: \"sequential_1\"\n",
      "_________________________________________________________________\n",
      " Layer (type)                Output Shape              Param #   \n",
      "=================================================================\n",
      " conv1d_4 (Conv1D)           (None, 116, 16)           48        \n",
      "                                                                 \n",
      " conv1d_5 (Conv1D)           (None, 116, 16)           528       \n",
      "                                                                 \n",
      " max_pooling1d_2 (MaxPooling  (None, 116, 16)          0         \n",
      " 1D)                                                             \n",
      "                                                                 \n",
      " conv1d_6 (Conv1D)           (None, 116, 32)           1056      \n",
      "                                                                 \n",
      " conv1d_7 (Conv1D)           (None, 116, 32)           2080      \n",
      "                                                                 \n",
      " max_pooling1d_3 (MaxPooling  (None, 116, 32)          0         \n",
      " 1D)                                                             \n",
      "                                                                 \n",
      " flatten_1 (Flatten)         (None, 3712)              0         \n",
      "                                                                 \n",
      " dense_2 (Dense)             (None, 32)                118816    \n",
      "                                                                 \n",
      " dropout_1 (Dropout)         (None, 32)                0         \n",
      "                                                                 \n",
      " dense_3 (Dense)             (None, 5)                 165       \n",
      "                                                                 \n",
      "=================================================================\n",
      "Total params: 122,693\n",
      "Trainable params: 122,693\n",
      "Non-trainable params: 0\n",
      "_________________________________________________________________\n"
     ]
    }
   ],
   "source": [
    "model.summary()"
   ]
  },
  {
   "cell_type": "code",
   "execution_count": 95,
   "id": "d48e94fc",
   "metadata": {},
   "outputs": [],
   "source": [
    "early_stop = EarlyStopping(monitor = 'val_loss', min_delta = 0.0001, \n",
    "                           patience = 10, mode = 'min', verbose = 1,\n",
    "                           restore_best_weights = True)"
   ]
  },
  {
   "cell_type": "code",
   "execution_count": 96,
   "id": "456b06d2",
   "metadata": {},
   "outputs": [
    {
     "name": "stdout",
     "output_type": "stream",
     "text": [
      "Epoch 1/25\n",
      "633/633 [==============================] - 75s 117ms/step - loss: 0.0443 - auc: 0.9978 - val_loss: 0.0066 - val_auc: 0.9998\n",
      "Epoch 2/25\n",
      "633/633 [==============================] - 66s 104ms/step - loss: 0.0055 - auc: 0.9998 - val_loss: 0.0026 - val_auc: 0.9998\n",
      "Epoch 3/25\n",
      "633/633 [==============================] - 66s 104ms/step - loss: 0.0036 - auc: 0.9999 - val_loss: 0.0021 - val_auc: 0.9998\n",
      "Epoch 4/25\n",
      "633/633 [==============================] - 66s 104ms/step - loss: 0.0030 - auc: 0.9999 - val_loss: 0.0023 - val_auc: 0.9998\n",
      "Epoch 5/25\n",
      "633/633 [==============================] - 68s 108ms/step - loss: 0.0027 - auc: 0.9999 - val_loss: 0.0020 - val_auc: 0.9999\n",
      "Epoch 6/25\n",
      "633/633 [==============================] - 67s 105ms/step - loss: 0.0026 - auc: 0.9999 - val_loss: 0.0018 - val_auc: 0.9999\n",
      "Epoch 7/25\n",
      "633/633 [==============================] - 66s 105ms/step - loss: 0.0023 - auc: 0.9999 - val_loss: 0.0017 - val_auc: 0.9998\n",
      "Epoch 8/25\n",
      "633/633 [==============================] - 66s 104ms/step - loss: 0.0022 - auc: 0.9999 - val_loss: 0.0017 - val_auc: 0.9998\n",
      "Epoch 9/25\n",
      "633/633 [==============================] - 66s 104ms/step - loss: 0.0021 - auc: 0.9999 - val_loss: 0.0019 - val_auc: 0.9999\n",
      "Epoch 10/25\n",
      "633/633 [==============================] - 66s 104ms/step - loss: 0.0020 - auc: 0.9999 - val_loss: 0.0014 - val_auc: 0.9999\n",
      "Epoch 11/25\n",
      "633/633 [==============================] - 66s 104ms/step - loss: 0.0018 - auc: 0.9999 - val_loss: 0.0015 - val_auc: 0.9999\n",
      "Epoch 12/25\n",
      "633/633 [==============================] - 66s 104ms/step - loss: 0.0018 - auc: 0.9999 - val_loss: 0.0014 - val_auc: 0.9999\n",
      "Epoch 13/25\n",
      "633/633 [==============================] - 66s 104ms/step - loss: 0.0018 - auc: 0.9999 - val_loss: 0.0013 - val_auc: 0.9999\n",
      "Epoch 14/25\n",
      "633/633 [==============================] - 66s 104ms/step - loss: 0.0017 - auc: 0.9999 - val_loss: 0.0014 - val_auc: 0.9999\n",
      "Epoch 15/25\n",
      "633/633 [==============================] - 66s 105ms/step - loss: 0.0016 - auc: 0.9999 - val_loss: 0.0013 - val_auc: 0.9999\n",
      "Epoch 16/25\n",
      "633/633 [==============================] - 67s 107ms/step - loss: 0.0016 - auc: 0.9999 - val_loss: 0.0012 - val_auc: 0.9999\n",
      "Epoch 17/25\n",
      "633/633 [==============================] - 67s 105ms/step - loss: 0.0015 - auc: 1.0000 - val_loss: 0.0013 - val_auc: 0.9999\n",
      "Epoch 18/25\n",
      "633/633 [==============================] - 66s 104ms/step - loss: 0.0015 - auc: 0.9999 - val_loss: 0.0012 - val_auc: 0.9999\n",
      "Epoch 19/25\n",
      "633/633 [==============================] - 67s 107ms/step - loss: 0.0015 - auc: 1.0000 - val_loss: 0.0013 - val_auc: 0.9999\n",
      "Epoch 20/25\n",
      "633/633 [==============================] - 66s 104ms/step - loss: 0.0014 - auc: 1.0000 - val_loss: 0.0011 - val_auc: 0.9999\n",
      "Epoch 21/25\n",
      "633/633 [==============================] - 66s 104ms/step - loss: 0.0014 - auc: 0.9999 - val_loss: 0.0011 - val_auc: 0.9999\n",
      "Epoch 22/25\n",
      "633/633 [==============================] - 66s 105ms/step - loss: 0.0014 - auc: 1.0000 - val_loss: 0.0011 - val_auc: 0.9999\n",
      "Epoch 23/25\n",
      "633/633 [==============================] - 66s 105ms/step - loss: 0.0013 - auc: 1.0000 - val_loss: 0.0011 - val_auc: 0.9999\n",
      "Epoch 24/25\n",
      "633/633 [==============================] - 66s 105ms/step - loss: 0.0014 - auc: 1.0000 - val_loss: 0.0013 - val_auc: 0.9999\n",
      "Epoch 25/25\n",
      "633/633 [==============================] - 66s 105ms/step - loss: 0.0012 - auc: 1.0000 - val_loss: 0.0011 - val_auc: 0.9999\n"
     ]
    }
   ],
   "source": [
    "history = model.fit(X_train, y_train, epochs=25, batch_size=500,validation_split=0.2,callbacks = [early_stop])"
   ]
  },
  {
   "cell_type": "code",
   "execution_count": null,
   "id": "e46c6251",
   "metadata": {},
   "outputs": [],
   "source": [
    "model.save(\"path_cnn\")"
   ]
  },
  {
   "cell_type": "code",
   "execution_count": 97,
   "id": "5949f279",
   "metadata": {},
   "outputs": [],
   "source": [
    "model = keras.models.load_model(\"path_cnn\")"
   ]
  },
  {
   "cell_type": "code",
   "execution_count": 98,
   "id": "366c43ce",
   "metadata": {},
   "outputs": [
    {
     "name": "stdout",
     "output_type": "stream",
     "text": [
      "3088/3088 [==============================] - 10s 3ms/step - loss: 9.8546e-04 - auc: 0.9999: 3s - loss: 8.4188e-04 -  - ETA: 3s - loss: 9.5745e-04 - auc - ETA: 2s - - ETA: 1s - loss: 0.0010 - au - ETA: 1s - loss:\n",
      "Test results - Loss: 0.0009854588424786925 - Accuracy: 99.99399781227112%\n"
     ]
    }
   ],
   "source": [
    "# predicting target attribute on testing dataset\n",
    "test_results = model.evaluate(X_test, y_test, verbose=1)\n",
    "print(f'Test results - Loss: {test_results[0]} - Accuracy: {test_results[1]*100}%')"
   ]
  },
  {
   "cell_type": "code",
   "execution_count": 99,
   "id": "9e7a5c2d",
   "metadata": {},
   "outputs": [],
   "source": [
    "import matplotlib.pyplot as plt\n",
    "import seaborn as sns\n",
    "\n",
    "from sklearn import metrics\n",
    "from sklearn.metrics import accuracy_score # for calculating accuracy of model\n",
    "from sklearn.model_selection import train_test_split # for splitting the dataset for training and testing\n",
    "from sklearn.metrics import classification_report # for generating a classification report of model\n",
    "\n",
    "from sklearn.metrics import precision_score\n",
    "from sklearn.metrics import recall_score\n",
    "from sklearn.metrics import f1_score\n",
    "\n",
    "from sklearn.metrics import roc_auc_score\n",
    "from sklearn.metrics import roc_curve, auc"
   ]
  },
  {
   "cell_type": "code",
   "execution_count": 100,
   "id": "cd6ac422",
   "metadata": {},
   "outputs": [],
   "source": [
    "from keras.utils.vis_utils import plot_model"
   ]
  },
  {
   "cell_type": "code",
   "execution_count": 101,
   "id": "4868e19c",
   "metadata": {},
   "outputs": [
    {
     "ename": "AttributeError",
     "evalue": "module 'keras.utils' has no attribute 'plot_model'",
     "output_type": "error",
     "traceback": [
      "\u001b[1;31m---------------------------------------------------------------------------\u001b[0m",
      "\u001b[1;31mAttributeError\u001b[0m                            Traceback (most recent call last)",
      "\u001b[1;32m<ipython-input-101-ebf7d277dd06>\u001b[0m in \u001b[0;36m<module>\u001b[1;34m\u001b[0m\n\u001b[1;32m----> 1\u001b[1;33m \u001b[0mkeras\u001b[0m\u001b[1;33m.\u001b[0m\u001b[0mutils\u001b[0m\u001b[1;33m.\u001b[0m\u001b[0mplot_model\u001b[0m\u001b[1;33m(\u001b[0m\u001b[0mmodel\u001b[0m\u001b[1;33m,\u001b[0m \u001b[1;34m\"multi_input_cnn.png\"\u001b[0m\u001b[1;33m,\u001b[0m \u001b[0mshow_shapes\u001b[0m\u001b[1;33m=\u001b[0m\u001b[1;32mTrue\u001b[0m\u001b[1;33m)\u001b[0m\u001b[1;33m\u001b[0m\u001b[1;33m\u001b[0m\u001b[0m\n\u001b[0m",
      "\u001b[1;31mAttributeError\u001b[0m: module 'keras.utils' has no attribute 'plot_model'"
     ]
    }
   ],
   "source": [
    "keras.utils.plot_model(model, \"multi_input_cnn.png\", show_shapes=True)"
   ]
  },
  {
   "cell_type": "code",
   "execution_count": 102,
   "id": "f8650b58",
   "metadata": {},
   "outputs": [
    {
     "data": {
      "image/png": "[encoded data removed]",
      "text/plain": [
       "<Figure size 432x288 with 1 Axes>"
      ]
     },
     "metadata": {
      "needs_background": "light"
     },
     "output_type": "display_data"
    }
   ],
   "source": [
    "# Plot of accuracy vs epoch for train and test dataset\n",
    "plt.plot(history.history['auc'])\n",
    "plt.plot(history.history['val_auc'])\n",
    "plt.title(\"Plot of accuracy vs epoch for train and test dataset\")\n",
    "plt.ylabel('accuracy')\n",
    "plt.xlabel('epoch')\n",
    "plt.show()"
   ]
  },
  {
   "cell_type": "code",
   "execution_count": 103,
   "id": "7dd58d89",
   "metadata": {},
   "outputs": [
    {
     "data": {
      "text/plain": [
       "['loss', 'auc']"
      ]
     },
     "execution_count": 103,
     "metadata": {},
     "output_type": "execute_result"
    }
   ],
   "source": [
    "model.metrics_names"
   ]
  },
  {
   "cell_type": "code",
   "execution_count": 104,
   "id": "881d9c1b",
   "metadata": {},
   "outputs": [
    {
     "data": {
      "image/png": "[encoded data removed]",
      "text/plain": [
       "<Figure size 432x288 with 1 Axes>"
      ]
     },
     "metadata": {
      "needs_background": "light"
     },
     "output_type": "display_data"
    }
   ],
   "source": [
    "# Plot of loss vs epoch for train and test dataset\n",
    "plt.plot(history.history['loss'])\n",
    "plt.plot(history.history['val_loss'])\n",
    "plt.title(\"Plot of loss vs epoch for train and test dataset\")\n",
    "plt.ylabel('loss')\n",
    "plt.xlabel('epoch')\n",
    "plt.legend(['train', 'test'], loc='upper right')\n",
    "plt.show()"
   ]
  },
  {
   "cell_type": "code",
   "execution_count": 108,
   "id": "5c258086",
   "metadata": {},
   "outputs": [],
   "source": [
    "# extract features from cnn\n",
    "modelfeatured=models.Model(inputs=model.input,outputs=model.get_layer('flatten').output)"
   ]
  },
  {
   "cell_type": "code",
   "execution_count": 106,
   "id": "b0b5e264",
   "metadata": {},
   "outputs": [],
   "source": [
    "from tensorflow.keras import models"
   ]
  },
  {
   "cell_type": "code",
   "execution_count": null,
   "id": "41a0b1ec",
   "metadata": {},
   "outputs": [],
   "source": [
    "train_featured=modelfeatured.predict(X_train)"
   ]
  },
  {
   "cell_type": "code",
   "execution_count": 109,
   "id": "20394280",
   "metadata": {},
   "outputs": [
    {
     "name": "stdout",
     "output_type": "stream",
     "text": [
      "(395216, 1, 116)\n",
      "(98805, 1, 116)\n"
     ]
    }
   ],
   "source": [
    "# build lstm model\n",
    "X_train_lstm = np.reshape(X_train, (X_train.shape[0],1, X_train.shape[1]))\n",
    "print(X_train_lstm.shape)\n",
    "X_test_lstm = np.reshape(X_test, (X_test.shape[0],1, X_test.shape[1]))\n",
    "print(X_test_lstm.shape)"
   ]
  },
  {
   "cell_type": "code",
   "execution_count": 110,
   "id": "7b8853da",
   "metadata": {},
   "outputs": [],
   "source": [
    "def model_1():\n",
    "    model_1 = Sequential()\n",
    "    #model_1.add(Dense(units = 64,input_shape=X_train_lstm[0].shape,activation='relu'))\n",
    "    #model_1.add(Dropout(0.15))\n",
    "    model_1.add(LSTM(units=64,input_shape=(X_train_lstm.shape[1],X_train_lstm.shape[2]),\n",
    "                dropout=0.5, activation='relu'))\n",
    "\n",
    "    #model_1.add(Dense(units=5,activation='sigmoid'))\n",
    "    model_1.add(Dense(5))\n",
    "    \n",
    "    opt = keras.optimizers.Adam(learning_rate=0.0001)\n",
    "    model_1.compile(loss='binary_crossentropy', optimizer=opt, metrics=['accuracy'])\n",
    "    return model_1\n",
    "    "
   ]
  },
  {
   "cell_type": "code",
   "execution_count": 112,
   "id": "3036c455",
   "metadata": {},
   "outputs": [],
   "source": [
    "from tensorflow import keras"
   ]
  },
  {
   "cell_type": "code",
   "execution_count": 113,
   "id": "a5e09b13",
   "metadata": {
    "ExecuteTime": {
     "end_time": "2022-12-03T09:59:26.960359Z",
     "start_time": "2022-12-03T09:59:26.844439Z"
    }
   },
   "outputs": [],
   "source": [
    "model_1 = model_1()"
   ]
  },
  {
   "cell_type": "code",
   "execution_count": 114,
   "id": "eb31feda",
   "metadata": {},
   "outputs": [
    {
     "name": "stdout",
     "output_type": "stream",
     "text": [
      "Model: \"sequential_3\"\n",
      "_________________________________________________________________\n",
      " Layer (type)                Output Shape              Param #   \n",
      "=================================================================\n",
      " lstm_1 (LSTM)               (None, 64)                46336     \n",
      "                                                                 \n",
      " dense_5 (Dense)             (None, 5)                 325       \n",
      "                                                                 \n",
      "=================================================================\n",
      "Total params: 46,661\n",
      "Trainable params: 46,661\n",
      "Non-trainable params: 0\n",
      "_________________________________________________________________\n"
     ]
    }
   ],
   "source": [
    "model_1.summary()"
   ]
  },
  {
   "cell_type": "code",
   "execution_count": 115,
   "id": "9beebdfc",
   "metadata": {},
   "outputs": [
    {
     "name": "stdout",
     "output_type": "stream",
     "text": [
      "Epoch 1/50\n",
      "633/633 [==============================] - 6s 5ms/step - loss: 0.8923 - accuracy: 0.7519 - val_loss: 0.4125 - val_accuracy: 0.9375\n",
      "Epoch 2/50\n",
      "633/633 [==============================] - 3s 5ms/step - loss: 0.3729 - accuracy: 0.8853 - val_loss: 0.2875 - val_accuracy: 0.9769\n",
      "Epoch 3/50\n",
      "633/633 [==============================] - 3s 5ms/step - loss: 0.2486 - accuracy: 0.9108 - val_loss: 0.1667 - val_accuracy: 0.9681\n",
      "Epoch 4/50\n",
      "633/633 [==============================] - 3s 5ms/step - loss: 0.1628 - accuracy: 0.9207 - val_loss: 0.0944 - val_accuracy: 0.9705\n",
      "Epoch 5/50\n",
      "633/633 [==============================] - 3s 5ms/step - loss: 0.1271 - accuracy: 0.9324 - val_loss: 0.0761 - val_accuracy: 0.9779\n",
      "Epoch 6/50\n",
      "633/633 [==============================] - 3s 5ms/step - loss: 0.1063 - accuracy: 0.9434 - val_loss: 0.0517 - val_accuracy: 0.9800\n",
      "Epoch 7/50\n",
      "633/633 [==============================] - 3s 5ms/step - loss: 0.0921 - accuracy: 0.9482 - val_loss: 0.0454 - val_accuracy: 0.9813\n",
      "Epoch 8/50\n",
      "633/633 [==============================] - 3s 5ms/step - loss: 0.0870 - accuracy: 0.9525 - val_loss: 0.0424 - val_accuracy: 0.9814\n",
      "Epoch 9/50\n",
      "633/633 [==============================] - 3s 5ms/step - loss: 0.0827 - accuracy: 0.9528 - val_loss: 0.0405 - val_accuracy: 0.9814\n",
      "Epoch 10/50\n",
      "633/633 [==============================] - 3s 5ms/step - loss: 0.0810 - accuracy: 0.9527 - val_loss: 0.0394 - val_accuracy: 0.9817\n",
      "Epoch 11/50\n",
      "633/633 [==============================] - 3s 4ms/step - loss: 0.0767 - accuracy: 0.9540 - val_loss: 0.0373 - val_accuracy: 0.9825\n",
      "Epoch 12/50\n",
      "633/633 [==============================] - 3s 5ms/step - loss: 0.0735 - accuracy: 0.9543 - val_loss: 0.0363 - val_accuracy: 0.9828\n",
      "Epoch 13/50\n",
      "633/633 [==============================] - 3s 5ms/step - loss: 0.0718 - accuracy: 0.9541 - val_loss: 0.0317 - val_accuracy: 0.9830\n",
      "Epoch 14/50\n",
      "633/633 [==============================] - 3s 5ms/step - loss: 0.0705 - accuracy: 0.9528 - val_loss: 0.0311 - val_accuracy: 0.9830\n",
      "Epoch 15/50\n",
      "633/633 [==============================] - 3s 5ms/step - loss: 0.0689 - accuracy: 0.9538 - val_loss: 0.0308 - val_accuracy: 0.9831\n",
      "Epoch 16/50\n",
      "633/633 [==============================] - 3s 5ms/step - loss: 0.0680 - accuracy: 0.9545 - val_loss: 0.0315 - val_accuracy: 0.9834\n",
      "Epoch 17/50\n",
      "633/633 [==============================] - 3s 5ms/step - loss: 0.0675 - accuracy: 0.9553 - val_loss: 0.0311 - val_accuracy: 0.9837\n",
      "Epoch 18/50\n",
      "633/633 [==============================] - 3s 5ms/step - loss: 0.0664 - accuracy: 0.9560 - val_loss: 0.0309 - val_accuracy: 0.9838\n",
      "Epoch 19/50\n",
      "633/633 [==============================] - 4s 7ms/step - loss: 0.0672 - accuracy: 0.9556 - val_loss: 0.0306 - val_accuracy: 0.9846\n",
      "Epoch 20/50\n",
      "633/633 [==============================] - 3s 5ms/step - loss: 0.0652 - accuracy: 0.9568 - val_loss: 0.0301 - val_accuracy: 0.9850\n",
      "Epoch 21/50\n",
      "633/633 [==============================] - 4s 6ms/step - loss: 0.0660 - accuracy: 0.9573 - val_loss: 0.0302 - val_accuracy: 0.9851\n",
      "Epoch 22/50\n",
      "633/633 [==============================] - 3s 5ms/step - loss: 0.0649 - accuracy: 0.9581 - val_loss: 0.0339 - val_accuracy: 0.9855\n",
      "Epoch 23/50\n",
      "633/633 [==============================] - 4s 7ms/step - loss: 0.0645 - accuracy: 0.9586 - val_loss: 0.0340 - val_accuracy: 0.9857\n",
      "Epoch 24/50\n",
      "633/633 [==============================] - 4s 6ms/step - loss: 0.0631 - accuracy: 0.9582 - val_loss: 0.0332 - val_accuracy: 0.9857\n",
      "Epoch 25/50\n",
      "633/633 [==============================] - 4s 6ms/step - loss: 0.0630 - accuracy: 0.9597 - val_loss: 0.0327 - val_accuracy: 0.9864\n",
      "Epoch 26/50\n",
      "633/633 [==============================] - 4s 6ms/step - loss: 0.0632 - accuracy: 0.9600 - val_loss: 0.0326 - val_accuracy: 0.9878\n",
      "Epoch 27/50\n",
      "633/633 [==============================] - 4s 6ms/step - loss: 0.0610 - accuracy: 0.9596 - val_loss: 0.0326 - val_accuracy: 0.9878\n",
      "Epoch 28/50\n",
      "633/633 [==============================] - 4s 6ms/step - loss: 0.0608 - accuracy: 0.9606 - val_loss: 0.0319 - val_accuracy: 0.9879\n",
      "Epoch 29/50\n",
      "633/633 [==============================] - 4s 6ms/step - loss: 0.0593 - accuracy: 0.9605 - val_loss: 0.0321 - val_accuracy: 0.9879\n",
      "Epoch 30/50\n",
      "627/633 [============================>.] - ETA: 0s - loss: 0.0597 - accuracy: 0.9612Restoring model weights from the end of the best epoch: 20.\n",
      "633/633 [==============================] - 4s 6ms/step - loss: 0.0596 - accuracy: 0.9612 - val_loss: 0.0315 - val_accuracy: 0.9880\n",
      "Epoch 00030: early stopping\n"
     ]
    },
    {
     "data": {
      "text/plain": [
       "<keras.callbacks.History at 0x134c53fd1c0>"
      ]
     },
     "execution_count": 115,
     "metadata": {},
     "output_type": "execute_result"
    }
   ],
   "source": [
    "model_1.fit(X_train_lstm, y_train, epochs=50, batch_size=500,validation_split=0.2,callbacks = [early_stop])"
   ]
  },
  {
   "cell_type": "code",
   "execution_count": 117,
   "id": "711f0fc9",
   "metadata": {},
   "outputs": [
    {
     "name": "stdout",
     "output_type": "stream",
     "text": [
      "INFO:tensorflow:Assets written to: path_lstm123\\assets\n"
     ]
    },
    {
     "name": "stderr",
     "output_type": "stream",
     "text": [
      "INFO:tensorflow:Assets written to: path_lstm123\\assets\n",
      "WARNING:absl:<keras.layers.recurrent.LSTMCell object at 0x00000134C52BA400> has the same name 'LSTMCell' as a built-in Keras object. Consider renaming <class 'keras.layers.recurrent.LSTMCell'> to avoid naming conflicts when loading with `tf.keras.models.load_model`. If renaming is not possible, pass the object in the `custom_objects` parameter of the load function.\n"
     ]
    }
   ],
   "source": [
    "model_1.save(\"path_lstm123\")"
   ]
  },
  {
   "cell_type": "code",
   "execution_count": 118,
   "id": "e16d1f57",
   "metadata": {},
   "outputs": [],
   "source": [
    "model_1 = keras.models.load_model(\"path_lstm123\")"
   ]
  },
  {
   "cell_type": "code",
   "execution_count": 119,
   "id": "fe3814f5",
   "metadata": {},
   "outputs": [
    {
     "name": "stdout",
     "output_type": "stream",
     "text": [
      "3088/3088 [==============================] - 4s 1ms/step - loss: 0.0303 - accuracy: 0.9851\n",
      "Test results - Loss: 0.030265575274825096 - Accuracy: 98.50817322731018%\n"
     ]
    }
   ],
   "source": [
    "# predicting target attribute on testing dataset\n",
    "test_results1 = model_1.evaluate(X_test_lstm, y_test, verbose=1)\n",
    "print(f'Test results - Loss: {test_results1[0]} - Accuracy: {test_results1[1]*100}%')"
   ]
  },
  {
   "cell_type": "code",
   "execution_count": 121,
   "id": "b2e8a043",
   "metadata": {},
   "outputs": [
    {
     "name": "stdout",
     "output_type": "stream",
     "text": [
      "('You must install pydot (`pip install pydot`) and install graphviz (see instructions at https://graphviz.gitlab.io/download/) ', 'for plot_model/model_to_dot to work.')\n"
     ]
    }
   ],
   "source": [
    "keras.utils.plot_model(model_1, \"model_lstm.png\", show_shapes=True)"
   ]
  },
  {
   "cell_type": "code",
   "execution_count": null,
   "id": "2ca87c74",
   "metadata": {},
   "outputs": [],
   "source": [
    "# CNN-LSTM\n"
   ]
  }
 ],
 "metadata": {
  "kernelspec": {
   "display_name": "Python 3",
   "language": "python",
   "name": "python3"
  },
  "language_info": {
   "codemirror_mode": {
    "name": "ipython",
    "version": 3
   },
   "file_extension": ".py",
   "mimetype": "text/x-python",
   "name": "python",
   "nbconvert_exporter": "python",
   "pygments_lexer": "ipython3",
   "version": "3.8.8"
  }
 },
 "nbformat": 4,
 "nbformat_minor": 5
}
